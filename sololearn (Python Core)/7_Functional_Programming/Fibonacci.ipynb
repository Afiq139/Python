{
 "cells": [
  {
   "cell_type": "code",
   "execution_count": 1,
   "metadata": {},
   "outputs": [
    {
     "name": "stdout",
     "output_type": "stream",
     "text": [
      "0\n",
      "1\n",
      "1\n",
      "2\n",
      "3\n"
     ]
    },
    {
     "data": {
      "text/plain": [
       "5"
      ]
     },
     "execution_count": 1,
     "metadata": {},
     "output_type": "execute_result"
    }
   ],
   "source": [
    "#num = int(input())\n",
    "\n",
    "\n",
    "#def fibonacci(n):\n",
    "\t#complete the recursive function\n",
    "\n",
    "\n",
    "#fibonacci(num)\n",
    "\n",
    "\n",
    "#num = int(input())\n",
    "\n",
    "#def fibonacci(n):\n",
    "#    if n<=1:\n",
    "#        return n\n",
    "#    else:\n",
    "#       return fibonacci(n-1)+fibonacci(n-2)\n",
    "               \n",
    "#for a in range(num):\n",
    "#    print(fibonacci(a))\n",
    "\n",
    "num = int(input())\n",
    "\n",
    "\n",
    "def fibonacci(n):\n",
    "    if n in {0, 1}:  # Base case\n",
    "        return n\n",
    "    else:\n",
    "        return fibonacci(n - 1) + fibonacci(n - 2)\n",
    "for a in range(num):\n",
    "    print(fibonacci(a))\n",
    "\n",
    "fibonacci(num)"
   ]
  }
 ],
 "metadata": {
  "kernelspec": {
   "display_name": "base",
   "language": "python",
   "name": "python3"
  },
  "language_info": {
   "codemirror_mode": {
    "name": "ipython",
    "version": 3
   },
   "file_extension": ".py",
   "mimetype": "text/x-python",
   "name": "python",
   "nbconvert_exporter": "python",
   "pygments_lexer": "ipython3",
   "version": "3.11.3"
  }
 },
 "nbformat": 4,
 "nbformat_minor": 2
}
