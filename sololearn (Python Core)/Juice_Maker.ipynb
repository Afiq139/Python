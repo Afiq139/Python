{
 "cells": [
  {
   "cell_type": "code",
   "execution_count": 21,
   "metadata": {},
   "outputs": [
    {
     "name": "stdout",
     "output_type": "stream",
     "text": [
      "name: Orange&Apple\n",
      "capacity: 3.5\n"
     ]
    }
   ],
   "source": [
    "class Juice:\n",
    "    def __init__(self, name, capacity):\n",
    "        self.name = name\n",
    "        self.capacity = capacity\n",
    "    \n",
    "\n",
    "\n",
    "    def __add__(self, other):\n",
    "        return ('name: ' + str(self.name + '&'+ other.name) + '\\ncapacity: ' + str(self.capacity + other.capacity))\n",
    "\n",
    "\n",
    "a = Juice('Orange', 1.5)\n",
    "b = Juice('Apple', 2.0)\n",
    "\n",
    "result = a + b\n",
    "print(result)\n",
    "\n"
   ]
  },
  {
   "cell_type": "code",
   "execution_count": 26,
   "metadata": {},
   "outputs": [
    {
     "name": "stdout",
     "output_type": "stream",
     "text": [
      "Orange&Apple (3.5L)\n"
     ]
    }
   ],
   "source": [
    "class Juice:\n",
    "    def __init__(self, name, capacity):\n",
    "        self.name = name\n",
    "        self.capacity = capacity\n",
    "\n",
    "    def __str__(self):\n",
    "        return f'{self.name} ({self.capacity}L)'\n",
    "\n",
    "    def __add__(self, other):\n",
    "        if isinstance(other, Juice):\n",
    "            combined_name = f'{self.name}&{other.name}'\n",
    "            combined_capacity = self.capacity + other.capacity\n",
    "            return Juice(combined_name, combined_capacity)\n",
    "        else:\n",
    "            return NotImplemented\n",
    "\n",
    "a = Juice('Orange', 1.5)\n",
    "b = Juice('Apple', 2.0)\n",
    "\n",
    "result = a + b\n",
    "print(result)\n"
   ]
  },
  {
   "cell_type": "code",
   "execution_count": 2,
   "metadata": {},
   "outputs": [
    {
     "name": "stdout",
     "output_type": "stream",
     "text": [
      "8\n",
      "16\n"
     ]
    }
   ],
   "source": [
    "class Vector2D:\n",
    "  def __init__(self, x, y):\n",
    "    self.x = x\n",
    "    self.y = y\n",
    "  def __add__(self, other):\n",
    "    return Vector2D(self.x + other.x, self.y + other.y)\n",
    "\n",
    "first = Vector2D(5, 7)\n",
    "second = Vector2D(3, 9)\n",
    "result = first + second\n",
    "print(result.x)\n",
    "print(result.y)"
   ]
  }
 ],
 "metadata": {
  "kernelspec": {
   "display_name": "base",
   "language": "python",
   "name": "python3"
  },
  "language_info": {
   "codemirror_mode": {
    "name": "ipython",
    "version": 3
   },
   "file_extension": ".py",
   "mimetype": "text/x-python",
   "name": "python",
   "nbconvert_exporter": "python",
   "pygments_lexer": "ipython3",
   "version": "3.11.3"
  }
 },
 "nbformat": 4,
 "nbformat_minor": 2
}
