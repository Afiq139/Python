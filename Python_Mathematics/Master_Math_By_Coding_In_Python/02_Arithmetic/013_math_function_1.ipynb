{
 "cells": [
  {
   "cell_type": "markdown",
   "metadata": {},
   "source": [
    "# 013 Create interactive math functions - Part 1"
   ]
  },
  {
   "cell_type": "code",
   "execution_count": 2,
   "metadata": {},
   "outputs": [],
   "source": [
    "def myfunction():\n",
    "    print('Hello world.')   "
   ]
  },
  {
   "cell_type": "code",
   "execution_count": 3,
   "metadata": {},
   "outputs": [
    {
     "name": "stdout",
     "output_type": "stream",
     "text": [
      "Hello world.\n"
     ]
    }
   ],
   "source": [
    "myfunction()"
   ]
  },
  {
   "cell_type": "code",
   "execution_count": 4,
   "metadata": {},
   "outputs": [],
   "source": [
    "def myname(name):\n",
    "    print('My name is %s.' %name)"
   ]
  },
  {
   "cell_type": "code",
   "execution_count": 5,
   "metadata": {},
   "outputs": [
    {
     "name": "stdout",
     "output_type": "stream",
     "text": [
      "My name is Shafiq.\n"
     ]
    }
   ],
   "source": [
    "myname('Shafiq')"
   ]
  },
  {
   "cell_type": "code",
   "execution_count": 11,
   "metadata": {},
   "outputs": [],
   "source": [
    "#math\n",
    "def computeRemainder(x,y):\n",
    "    divis = int(x/y)\n",
    "    remainder = x%y\n",
    "    \n",
    "    print('%g goes into %g, %g times with a remainder of %g' %(y,x,divis, remainder))"
   ]
  },
  {
   "cell_type": "code",
   "execution_count": 12,
   "metadata": {},
   "outputs": [
    {
     "name": "stdout",
     "output_type": "stream",
     "text": [
      "3 goes into 10, 3 times with a remainder of 1\n"
     ]
    }
   ],
   "source": [
    "computeRemainder(10,3)"
   ]
  },
  {
   "cell_type": "code",
   "execution_count": 17,
   "metadata": {},
   "outputs": [],
   "source": [
    "a = int(input('input a number'))"
   ]
  },
  {
   "cell_type": "code",
   "execution_count": 18,
   "metadata": {},
   "outputs": [
    {
     "data": {
      "text/plain": [
       "123"
      ]
     },
     "execution_count": 18,
     "metadata": {},
     "output_type": "execute_result"
    }
   ],
   "source": [
    "a"
   ]
  },
  {
   "cell_type": "code",
   "execution_count": 25,
   "metadata": {},
   "outputs": [],
   "source": [
    "def divisionWithInput():\n",
    "\n",
    "    x = int(input('Input the numerator:'))\n",
    "    print('Input the numerator: %g' %x)\n",
    "\n",
    "    y = int(input('Input the denominator:'))\n",
    "    print('Input the denominator: %g' %y)\n",
    "\n",
    "    divis = int(x/y)\n",
    "    remainder = x%y\n",
    "    \n",
    "\n",
    "    print('%g goes into %g, %g times with a remainder of %g' %(y,x,divis, remainder))"
   ]
  },
  {
   "cell_type": "code",
   "execution_count": 28,
   "metadata": {},
   "outputs": [
    {
     "name": "stdout",
     "output_type": "stream",
     "text": [
      "Input the numerator: 500\n",
      "Input the denominator: 100\n",
      "100 goes into 500, 5 times with a remainder of 0\n"
     ]
    }
   ],
   "source": [
    "divisionWithInput()"
   ]
  }
 ],
 "metadata": {
  "kernelspec": {
   "display_name": "base",
   "language": "python",
   "name": "python3"
  },
  "language_info": {
   "codemirror_mode": {
    "name": "ipython",
    "version": 3
   },
   "file_extension": ".py",
   "mimetype": "text/x-python",
   "name": "python",
   "nbconvert_exporter": "python",
   "pygments_lexer": "ipython3",
   "version": "3.11.3"
  },
  "orig_nbformat": 4
 },
 "nbformat": 4,
 "nbformat_minor": 2
}
