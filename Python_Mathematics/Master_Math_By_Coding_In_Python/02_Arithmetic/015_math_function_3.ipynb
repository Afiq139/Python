{
 "cells": [
  {
   "cell_type": "markdown",
   "metadata": {},
   "source": [
    "# 015 Create interactive math functions - Part 3"
   ]
  },
  {
   "cell_type": "code",
   "execution_count": 6,
   "metadata": {},
   "outputs": [],
   "source": [
    "from numpy import random\n",
    "\n",
    "#function definition (no inputs necessary)\n",
    "def guessTheNumber():\n",
    "\n",
    "    #generate a random integer\n",
    "    num2guess = random.randint(1,101)\n",
    "\n",
    "    #ask the user for a guess\n",
    "    userguess = int(input('Guess a number between 1 and 100: '))\n",
    "    print('Guess a number between 1 and 100: %g' %userguess)\n",
    "\n",
    "    #check whether the number is a match\n",
    "    while userguess!=num2guess:\n",
    "\n",
    "        #print informative message and ask for another guess\n",
    "        if userguess<num2guess:\n",
    "            print('Guess higher!')\n",
    "        elif userguess>num2guess:\n",
    "            print('Guess lower!')\n",
    "        \n",
    "        userguess = int(input('Guess again:  '))\n",
    "        \n",
    "    #if the guess is correct, congratulate the user!\n",
    "    print('YES!! Your guess correctly! The number is %g' %num2guess)\n"
   ]
  },
  {
   "cell_type": "code",
   "execution_count": 7,
   "metadata": {},
   "outputs": [
    {
     "name": "stdout",
     "output_type": "stream",
     "text": [
      "Guess a number between 1 and 100: 10\n",
      "Guess higher!\n",
      "Guess higher!\n",
      "Guess higher!\n",
      "Guess lower!\n",
      "Guess higher!\n",
      "Guess lower!\n",
      "Guess higher!\n",
      "Guess higher!\n",
      "Guess higher!\n",
      "Guess higher!\n",
      "Guess higher!\n",
      "YES!! Your guess correctly! The number is 55\n"
     ]
    }
   ],
   "source": [
    "guessTheNumber()"
   ]
  }
 ],
 "metadata": {
  "kernelspec": {
   "display_name": "base",
   "language": "python",
   "name": "python3"
  },
  "language_info": {
   "codemirror_mode": {
    "name": "ipython",
    "version": 3
   },
   "file_extension": ".py",
   "mimetype": "text/x-python",
   "name": "python",
   "nbconvert_exporter": "python",
   "pygments_lexer": "ipython3",
   "version": "3.11.3"
  },
  "orig_nbformat": 4
 },
 "nbformat": 4,
 "nbformat_minor": 2
}
