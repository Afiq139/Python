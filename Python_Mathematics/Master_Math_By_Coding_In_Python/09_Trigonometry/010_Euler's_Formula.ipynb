{
 "cells": [
  {
   "cell_type": "markdown",
   "metadata": {},
   "source": [
    "# 010 Euler's Formula"
   ]
  },
  {
   "cell_type": "code",
   "execution_count": 2,
   "metadata": {},
   "outputs": [],
   "source": [
    "import numpy as np\n",
    "import matplotlib.pyplot as plt"
   ]
  },
  {
   "cell_type": "code",
   "execution_count": 3,
   "metadata": {},
   "outputs": [
    {
     "name": "stdout",
     "output_type": "stream",
     "text": [
      "(1.991858428704209+1.1499999999999997j)\n",
      "(1.991858428704209+1.1499999999999997j)\n"
     ]
    }
   ],
   "source": [
    "k = np.pi/6\n",
    "m = 2.3\n",
    "\n",
    "eul = m*np.exp(1j*k)\n",
    "cis = m*(np.cos(k) + 1j*np.sin(k))\n",
    "\n",
    "print(cis)\n",
    "print(eul)"
   ]
  }
 ],
 "metadata": {
  "kernelspec": {
   "display_name": "base",
   "language": "python",
   "name": "python3"
  },
  "language_info": {
   "codemirror_mode": {
    "name": "ipython",
    "version": 3
   },
   "file_extension": ".py",
   "mimetype": "text/x-python",
   "name": "python",
   "nbconvert_exporter": "python",
   "pygments_lexer": "ipython3",
   "version": "3.11.3"
  }
 },
 "nbformat": 4,
 "nbformat_minor": 2
}
