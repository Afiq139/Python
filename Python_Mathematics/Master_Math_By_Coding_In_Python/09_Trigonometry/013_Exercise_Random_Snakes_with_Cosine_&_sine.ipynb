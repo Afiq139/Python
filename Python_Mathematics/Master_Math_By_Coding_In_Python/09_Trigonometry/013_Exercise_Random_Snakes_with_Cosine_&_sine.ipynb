{
 "cells": [
  {
   "cell_type": "markdown",
   "metadata": {},
   "source": [
    "# 013 Exercise Random Snakes with Cosine and Sine"
   ]
  },
  {
   "cell_type": "code",
   "execution_count": null,
   "metadata": {},
   "outputs": [],
   "source": []
  }
 ],
 "metadata": {
  "language_info": {
   "name": "python"
  }
 },
 "nbformat": 4,
 "nbformat_minor": 2
}
