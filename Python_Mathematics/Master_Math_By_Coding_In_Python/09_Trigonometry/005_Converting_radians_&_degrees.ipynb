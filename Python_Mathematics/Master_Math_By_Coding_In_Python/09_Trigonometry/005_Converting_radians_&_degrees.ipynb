{
 "cells": [
  {
   "cell_type": "markdown",
   "metadata": {},
   "source": [
    "# 005 Converting between radians and degrees"
   ]
  },
  {
   "cell_type": "code",
   "execution_count": 1,
   "metadata": {},
   "outputs": [],
   "source": [
    "import numpy as np\n",
    "import matplotlib.pyplot as plt"
   ]
  },
  {
   "cell_type": "code",
   "execution_count": 3,
   "metadata": {},
   "outputs": [
    {
     "name": "stdout",
     "output_type": "stream",
     "text": [
      "720 degrees is 0 radians. \n"
     ]
    }
   ],
   "source": [
    "deg = 720\n",
    "\n",
    "#rad = deg*np.pi/180\n",
    "#rad = rad%(2*np.pi)\n",
    "\n",
    "rad = np.deg2rad(deg)%(2*np.pi)\n",
    "\n",
    "print('%g degrees is %g radians. ' %(deg,rad))"
   ]
  },
  {
   "cell_type": "code",
   "execution_count": 4,
   "metadata": {},
   "outputs": [
    {
     "data": {
      "text/plain": [
       "720"
      ]
     },
     "execution_count": 4,
     "metadata": {},
     "output_type": "execute_result"
    }
   ],
   "source": [
    "rad = 4*np.pi\n",
    "\n",
    "# deg = (180*rad/np.pi)%360\n",
    "np.rad2deg(rad)\n",
    "deg"
   ]
  }
 ],
 "metadata": {
  "kernelspec": {
   "display_name": "base",
   "language": "python",
   "name": "python3"
  },
  "language_info": {
   "codemirror_mode": {
    "name": "ipython",
    "version": 3
   },
   "file_extension": ".py",
   "mimetype": "text/x-python",
   "name": "python",
   "nbconvert_exporter": "python",
   "pygments_lexer": "ipython3",
   "version": "3.11.3"
  }
 },
 "nbformat": 4,
 "nbformat_minor": 2
}
