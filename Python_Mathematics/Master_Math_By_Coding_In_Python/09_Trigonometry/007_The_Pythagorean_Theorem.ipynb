{
 "cells": [
  {
   "cell_type": "markdown",
   "metadata": {},
   "source": [
    "# 007 The Pythagorean Theorem"
   ]
  },
  {
   "cell_type": "code",
   "execution_count": 8,
   "metadata": {},
   "outputs": [],
   "source": [
    "import numpy as np\n",
    "import matplotlib.pyplot as plt"
   ]
  },
  {
   "cell_type": "code",
   "execution_count": 9,
   "metadata": {},
   "outputs": [
    {
     "data": {
      "image/png": "[encoded data removed]",
      "text/plain": [
       "<Figure size 640x480 with 1 Axes>"
      ]
     },
     "metadata": {},
     "output_type": "display_data"
    }
   ],
   "source": [
    "a = 8\n",
    "b = 3\n",
    "c = np.sqrt(a**2 + b**2)\n",
    "\n",
    "#draw the triangle\n",
    "plt.plot([0,a],[0,0],'k',linewidth=2)\n",
    "plt.plot([0,0],[0,b],'k')\n",
    "plt.plot([0,a],[b,0],'k')\n",
    "\n",
    "plt.plot([.3,.3],[0,.3],'k',linewidth=1)\n",
    "plt.plot([0,.3],[.3,.3],'k')\n",
    "\n",
    "plt.text(a/3,-.45,'a=' + str(a), fontsize=15)\n",
    "plt.text(.1,b/3,'b=' + str(b), fontsize=15)\n",
    "plt.text(a/2+.1,b/2,'c=' + str(c), fontsize=15)\n",
    "\n",
    "plt.axis('square')\n",
    "axlim = np.max((a,b)) + .5\n",
    "plt.axis([-.5,axlim,-.5,axlim])\n",
    "plt.axis('off')\n",
    "\n",
    "plt.show()"
   ]
  },
  {
   "cell_type": "markdown",
   "metadata": {},
   "source": [
    "# Exercise"
   ]
  },
  {
   "cell_type": "code",
   "execution_count": 11,
   "metadata": {},
   "outputs": [
    {
     "name": "stdout",
     "output_type": "stream",
     "text": [
      "5.0 5.0\n"
     ]
    }
   ],
   "source": [
    "z = complex(3,4)\n",
    "\n",
    "mag1 = np.sqrt(np.real(z)**2 + np.imag(z)**2)\n",
    "mag2 = np.abs(z)\n",
    "\n",
    "print(mag1,mag2)"
   ]
  },
  {
   "cell_type": "code",
   "execution_count": 12,
   "metadata": {},
   "outputs": [
    {
     "name": "stdout",
     "output_type": "stream",
     "text": [
      "0.9272952180016122 0.9272952180016122\n"
     ]
    }
   ],
   "source": [
    "ang1 = np.arctan2(np.imag(z), np.real(z))\n",
    "ang2 = np.angle(z)\n",
    "\n",
    "print(ang1,ang2)"
   ]
  }
 ],
 "metadata": {
  "kernelspec": {
   "display_name": "base",
   "language": "python",
   "name": "python3"
  },
  "language_info": {
   "codemirror_mode": {
    "name": "ipython",
    "version": 3
   },
   "file_extension": ".py",
   "mimetype": "text/x-python",
   "name": "python",
   "nbconvert_exporter": "python",
   "pygments_lexer": "ipython3",
   "version": "3.11.3"
  }
 },
 "nbformat": 4,
 "nbformat_minor": 2
}
