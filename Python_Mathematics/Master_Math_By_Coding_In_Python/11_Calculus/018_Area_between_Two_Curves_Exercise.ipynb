{
 "cells": [
  {
   "cell_type": "markdown",
   "metadata": {},
   "source": [
    "# 018 Area Between two curves exercise"
   ]
  },
  {
   "cell_type": "code",
   "execution_count": 6,
   "metadata": {},
   "outputs": [],
   "source": [
    "import sympy as sym\n",
    "import numpy as np\n",
    "import matplotlib.pyplot as plt\n",
    "from matplotlib.patches import Polygon\n",
    "from IPython.display import display, Math"
   ]
  },
  {
   "cell_type": "markdown",
   "metadata": {},
   "source": [
    "### Computing the area between two functions\n",
    "\n",
    "The area between two functions is given by formula $A=\\int_{a}^{b}[f(x)-g(x)]dx$\n",
    "\n",
    "In our example, $f(x)=x^2$ and $g(x)=x$\n",
    "\n",
    "Therefore, $A = \\int_{a}^{b}(x-x^2)dx$\n",
    "\n",
    "We will compute the area between the two crossing points, that is, where the two functions are equal. This is given by the two solutions to the equation\n",
    "\n",
    "$$x^2=x$$\n",
    "\n",
    "The two solutions are $x=0$ and $x=1$. This gives the definite integral of\n",
    "$$A=\\int_{0}^{1}(x-x^2)dx$$"
   ]
  },
  {
   "cell_type": "code",
   "execution_count": 7,
   "metadata": {},
   "outputs": [
    {
     "data": {
      "text/latex": [
       "$\\displaystyle f(x)\\text{ and } g(x) \\text{ intersect at }x =0\\text{ and }1$"
      ],
      "text/plain": [
       "<IPython.core.display.Math object>"
      ]
     },
     "metadata": {},
     "output_type": "display_data"
    },
    {
     "data": {
      "text/latex": [
       "$\\displaystyle \\text{The area between these functions is }1/6$"
      ],
      "text/plain": [
       "<IPython.core.display.Math object>"
      ]
     },
     "metadata": {},
     "output_type": "display_data"
    }
   ],
   "source": [
    "x = sym.symbols('x')\n",
    "symf = x**2\n",
    "symg = x\n",
    "\n",
    "fg_intersect = sym.solve(symf-symg)\n",
    "display(Math('f(x)\\\\text{ and } g(x) \\\\text{ intersect at }x =%g\\\\text{ and }%g' %(fg_intersect[0],fg_intersect[1]) ))\n",
    "\n",
    "# compute the area\n",
    "A = sym.integrate(symg-symf, (x,fg_intersect[0], fg_intersect[1]))\n",
    "display(Math('\\\\text{The area between these functions is }%s' %A))\n"
   ]
  }
 ],
 "metadata": {
  "kernelspec": {
   "display_name": "base",
   "language": "python",
   "name": "python3"
  },
  "language_info": {
   "codemirror_mode": {
    "name": "ipython",
    "version": 3
   },
   "file_extension": ".py",
   "mimetype": "text/x-python",
   "name": "python",
   "nbconvert_exporter": "python",
   "pygments_lexer": "ipython3",
   "version": "3.11.3"
  }
 },
 "nbformat": 4,
 "nbformat_minor": 2
}
