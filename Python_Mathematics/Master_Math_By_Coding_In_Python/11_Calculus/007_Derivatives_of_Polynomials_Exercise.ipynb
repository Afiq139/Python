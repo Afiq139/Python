{
 "cells": [
  {
   "cell_type": "markdown",
   "metadata": {},
   "source": [
    "# 007 Derivatives of Polynomials Exercise"
   ]
  },
  {
   "cell_type": "code",
   "execution_count": 11,
   "metadata": {},
   "outputs": [],
   "source": [
    "import sympy as sym\n",
    "from IPython.display import display, Math"
   ]
  },
  {
   "cell_type": "code",
   "execution_count": 12,
   "metadata": {},
   "outputs": [
    {
     "data": {
      "text/latex": [
       "$\\displaystyle \\text{Without applying the product rule.}$"
      ],
      "text/plain": [
       "<IPython.core.display.Math object>"
      ]
     },
     "metadata": {},
     "output_type": "display_data"
    },
    {
     "data": {
      "text/latex": [
       "$\\displaystyle \\quad (f\\times g)' = 63 x^{8} - 35 x^{6} + 180 x^{5} + 15 x^{4} - 80 x^{3} + 24 x^{2} + 24 x$"
      ],
      "text/plain": [
       "<IPython.core.display.Math object>"
      ]
     },
     "metadata": {},
     "output_type": "display_data"
    },
    {
     "data": {
      "text/latex": [
       "$\\displaystyle \\quad f' \\times g' = 140 x^{7} - 50 x^{5} + 234 x^{4} - 80 x^{2} + 16 x$"
      ],
      "text/plain": [
       "<IPython.core.display.Math object>"
      ]
     },
     "metadata": {},
     "output_type": "display_data"
    }
   ],
   "source": [
    "x = sym.symbols('x')\n",
    "\n",
    "f = 3 + 2*x - 5*x**2 + 7*x**4\n",
    "g = 4*x**2 + x**5\n",
    "\n",
    "df = sym.diff(f)\n",
    "dg = sym.diff(g)\n",
    "\n",
    "d_fXg = sym.diff(f*g)\n",
    "df_X_dg = sym.diff(f)*sym.diff(g)\n",
    "\n",
    "d_fPlus_g = sym.diff(f+g)\n",
    "\n",
    "display(Math('\\\\text{Without applying the product rule.}'))\n",
    "display(Math('\\\\quad (f\\\\times g)\\' = %s' %sym.latex(sym.expand(d_fXg))))\n",
    "display(Math('\\\\quad f\\' \\\\times g\\' = %s' %sym.latex(sym.expand(df_X_dg))))"
   ]
  },
  {
   "cell_type": "code",
   "execution_count": 13,
   "metadata": {},
   "outputs": [
    {
     "data": {
      "text/latex": [
       "$\\displaystyle \\text{With applying the product rule.}$"
      ],
      "text/plain": [
       "<IPython.core.display.Math object>"
      ]
     },
     "metadata": {},
     "output_type": "display_data"
    },
    {
     "data": {
      "text/latex": [
       "$\\displaystyle \\quad (f\\times g)' = 63 x^{8} - 35 x^{6} + 180 x^{5} + 15 x^{4} - 80 x^{3} + 24 x^{2} + 24 x$"
      ],
      "text/plain": [
       "<IPython.core.display.Math object>"
      ]
     },
     "metadata": {},
     "output_type": "display_data"
    },
    {
     "data": {
      "text/latex": [
       "$\\displaystyle \\quad f' \\times g + f\\times g' = 63 x^{8} - 35 x^{6} + 180 x^{5} + 15 x^{4} - 80 x^{3} + 24 x^{2} + 24 x$"
      ],
      "text/plain": [
       "<IPython.core.display.Math object>"
      ]
     },
     "metadata": {},
     "output_type": "display_data"
    }
   ],
   "source": [
    "display(Math('\\\\text{With applying the product rule.}'))\n",
    "display(Math('\\\\quad (f\\\\times g)\\' = %s' %sym.latex(sym.expand(d_fXg))))\n",
    "display(Math('\\\\quad f\\' \\\\times g + f\\\\times g\\' = %s' %sym.latex(sym.expand(df*g + f*dg))))"
   ]
  },
  {
   "cell_type": "code",
   "execution_count": 14,
   "metadata": {},
   "outputs": [
    {
     "data": {
      "text/latex": [
       "$\\displaystyle (f+g)' = 5 x^{4} + 28 x^{3} - 2 x + 2$"
      ],
      "text/plain": [
       "<IPython.core.display.Math object>"
      ]
     },
     "metadata": {},
     "output_type": "display_data"
    },
    {
     "data": {
      "text/latex": [
       "$\\displaystyle f'+ g' = 5 x^{4} + 28 x^{3} - 2 x + 2$"
      ],
      "text/plain": [
       "<IPython.core.display.Math object>"
      ]
     },
     "metadata": {},
     "output_type": "display_data"
    }
   ],
   "source": [
    "display(Math('(f+g)\\' = %s' %sym.latex(sym.expand(d_fPlus_g))))\n",
    "display(Math('f\\'+ g\\' = %s' %sym.latex(sym.expand(df+dg))))"
   ]
  }
 ],
 "metadata": {
  "kernelspec": {
   "display_name": "base",
   "language": "python",
   "name": "python3"
  },
  "language_info": {
   "codemirror_mode": {
    "name": "ipython",
    "version": 3
   },
   "file_extension": ".py",
   "mimetype": "text/x-python",
   "name": "python",
   "nbconvert_exporter": "python",
   "pygments_lexer": "ipython3",
   "version": "3.11.3"
  }
 },
 "nbformat": 4,
 "nbformat_minor": 2
}
