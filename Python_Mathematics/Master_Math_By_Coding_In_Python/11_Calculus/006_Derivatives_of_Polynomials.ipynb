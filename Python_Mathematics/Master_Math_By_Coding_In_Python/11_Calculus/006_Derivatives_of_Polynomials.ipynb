{
 "cells": [
  {
   "cell_type": "markdown",
   "metadata": {},
   "source": [
    "# 006 Derivatives of Polynomials"
   ]
  },
  {
   "cell_type": "code",
   "execution_count": 1,
   "metadata": {},
   "outputs": [],
   "source": [
    "import sympy as sym\n",
    "import matplotlib.pyplot as plt\n",
    "import numpy as np\n",
    "from IPython.display import display, Math"
   ]
  },
  {
   "cell_type": "code",
   "execution_count": 2,
   "metadata": {},
   "outputs": [],
   "source": [
    "x = sym.symbols('x')\n",
    "fx = x**2\n",
    "dfx = sym.diff(fx)"
   ]
  },
  {
   "cell_type": "code",
   "execution_count": 3,
   "metadata": {},
   "outputs": [
    {
     "data": {
      "text/latex": [
       "$\\displaystyle f(x) = x^{2}, \\quad \\frac{df}{dx}=2 x$"
      ],
      "text/plain": [
       "<IPython.core.display.Math object>"
      ]
     },
     "metadata": {},
     "output_type": "display_data"
    },
    {
     "data": {
      "text/latex": [
       "$\\displaystyle f(x) = x^{2}, \\quad f'=2 x$"
      ],
      "text/plain": [
       "<IPython.core.display.Math object>"
      ]
     },
     "metadata": {},
     "output_type": "display_data"
    },
    {
     "data": {
      "text/latex": [
       "$\\displaystyle f(x) = x^{2}, \\quad \\dot{f}=2 x$"
      ],
      "text/plain": [
       "<IPython.core.display.Math object>"
      ]
     },
     "metadata": {},
     "output_type": "display_data"
    }
   ],
   "source": [
    "# Leibniz notation\n",
    "display(Math('f(x) = %s, \\\\quad \\\\frac{df}{dx}=%s' %(sym.latex(fx),sym.latex(dfx))))\n",
    "\n",
    "# Lagrange notation\n",
    "display(Math('f(x) = %s, \\\\quad f\\'=%s' %(sym.latex(fx),sym.latex(dfx))))\n",
    "\n",
    "# Newton notation\n",
    "display(Math('f(x) = %s, \\\\quad \\\\dot{f}=%s' %(sym.latex(fx),sym.latex(dfx))))"
   ]
  }
 ],
 "metadata": {
  "kernelspec": {
   "display_name": "base",
   "language": "python",
   "name": "python3"
  },
  "language_info": {
   "codemirror_mode": {
    "name": "ipython",
    "version": 3
   },
   "file_extension": ".py",
   "mimetype": "text/x-python",
   "name": "python",
   "nbconvert_exporter": "python",
   "pygments_lexer": "ipython3",
   "version": "3.11.3"
  }
 },
 "nbformat": 4,
 "nbformat_minor": 2
}
