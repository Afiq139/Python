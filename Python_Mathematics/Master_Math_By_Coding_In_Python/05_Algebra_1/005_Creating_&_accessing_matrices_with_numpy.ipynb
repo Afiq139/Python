{
 "cells": [
  {
   "cell_type": "markdown",
   "metadata": {},
   "source": [
    "# 005 Creating and accessing matrices with numpy"
   ]
  }
 ],
 "metadata": {
  "language_info": {
   "name": "python"
  },
  "orig_nbformat": 4
 },
 "nbformat": 4,
 "nbformat_minor": 2
}
