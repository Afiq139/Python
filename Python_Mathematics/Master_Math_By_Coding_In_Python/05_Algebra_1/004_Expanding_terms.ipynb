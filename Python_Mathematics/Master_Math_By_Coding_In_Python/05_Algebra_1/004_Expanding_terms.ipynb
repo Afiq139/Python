{
 "cells": [
  {
   "cell_type": "markdown",
   "metadata": {},
   "source": [
    "# 004 Expanding Terms"
   ]
  },
  {
   "cell_type": "code",
   "execution_count": 4,
   "metadata": {},
   "outputs": [],
   "source": [
    "import sympy as sym\n",
    "from IPython.display import display,Math"
   ]
  },
  {
   "cell_type": "code",
   "execution_count": 5,
   "metadata": {},
   "outputs": [
    {
     "name": "stdout",
     "output_type": "stream",
     "text": [
      "x*(4*x + 5)\n",
      "4*x**2 + 5*x\n",
      "<IPython.core.display.Math object>\n"
     ]
    }
   ],
   "source": [
    "from sympy.abc import x\n",
    "\n",
    "term1 = (4*x + 5)\n",
    "term2 = x\n",
    "\n",
    "print(term1*term2)\n",
    "print(sym.expand(term1*term2))\n",
    "print(Math(sym.latex(sym.expand(term1*term2))))"
   ]
  },
  {
   "cell_type": "code",
   "execution_count": 6,
   "metadata": {},
   "outputs": [
    {
     "data": {
      "text/latex": [
       "$\\displaystyle \\left(x - 7\\right) \\left(4 x + 5\\right)$"
      ],
      "text/plain": [
       "<IPython.core.display.Math object>"
      ]
     },
     "metadata": {},
     "output_type": "display_data"
    },
    {
     "data": {
      "text/latex": [
       "$\\displaystyle 4 x^{2} - 23 x - 35$"
      ],
      "text/plain": [
       "<IPython.core.display.Math object>"
      ]
     },
     "metadata": {},
     "output_type": "display_data"
    }
   ],
   "source": [
    "term3 = x-7\n",
    "\n",
    "display(Math(sym.latex(term1*term3)))\n",
    "display(Math(sym.latex(sym.expand(term1*term3))))"
   ]
  },
  {
   "cell_type": "code",
   "execution_count": 7,
   "metadata": {},
   "outputs": [
    {
     "data": {
      "text/latex": [
       "$\\displaystyle x \\left(- \\frac{5^{x}}{x} + 2 y^{2}\\right)$"
      ],
      "text/plain": [
       "<IPython.core.display.Math object>"
      ]
     },
     "metadata": {},
     "output_type": "display_data"
    },
    {
     "data": {
      "text/latex": [
       "$\\displaystyle - 5^{x} + 2 x y^{2}$"
      ],
      "text/plain": [
       "<IPython.core.display.Math object>"
      ]
     },
     "metadata": {},
     "output_type": "display_data"
    }
   ],
   "source": [
    "from sympy.abc import y\n",
    "\n",
    "expr = x*(2*y**2 - 5**x/x)\n",
    "display(Math(sym.latex(expr)))\n",
    "display(Math(sym.latex(sym.expand(expr))))"
   ]
  },
  {
   "cell_type": "code",
   "execution_count": 8,
   "metadata": {},
   "outputs": [
    {
     "name": "stdout",
     "output_type": "stream",
     "text": [
      "Variable   Type        Data/Info\n",
      "--------------------------------\n",
      "Math       type        <class 'IPython.core.display.Math'>\n",
      "display    function    <function display at 0x000001AF421C6C00>\n",
      "expr       Mul         x*(-5**x/x + 2*y**2)\n",
      "sym        module      <module 'sympy' from 'c:\\<...>ges\\\\sympy\\\\__init__.py'>\n",
      "term1      Add         4*x + 5\n",
      "term2      Symbol      x\n",
      "term3      Add         x - 7\n",
      "x          Symbol      x\n",
      "y          Symbol      y\n"
     ]
    }
   ],
   "source": [
    "%whos"
   ]
  }
 ],
 "metadata": {
  "kernelspec": {
   "display_name": "base",
   "language": "python",
   "name": "python3"
  },
  "language_info": {
   "codemirror_mode": {
    "name": "ipython",
    "version": 3
   },
   "file_extension": ".py",
   "mimetype": "text/x-python",
   "name": "python",
   "nbconvert_exporter": "python",
   "pygments_lexer": "ipython3",
   "version": "3.11.3"
  },
  "orig_nbformat": 4
 },
 "nbformat": 4,
 "nbformat_minor": 2
}
