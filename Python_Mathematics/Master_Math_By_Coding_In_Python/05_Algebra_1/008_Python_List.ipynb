{
 "cells": [
  {
   "cell_type": "markdown",
   "metadata": {},
   "source": [
    "# 008 Creating and working with Python List"
   ]
  },
  {
   "cell_type": "code",
   "execution_count": 19,
   "metadata": {},
   "outputs": [
    {
     "name": "stdout",
     "output_type": "stream",
     "text": [
      "<class 'list'>\n"
     ]
    }
   ],
   "source": [
    "lst = [1,3,6,7,4,5,6,1,3,5,6,4,0]\n",
    "print((type(lst)))"
   ]
  },
  {
   "cell_type": "code",
   "execution_count": 20,
   "metadata": {},
   "outputs": [
    {
     "data": {
      "text/plain": [
       "0"
      ]
     },
     "execution_count": 20,
     "metadata": {},
     "output_type": "execute_result"
    }
   ],
   "source": [
    "lst[-1]  #accessing last element"
   ]
  },
  {
   "cell_type": "code",
   "execution_count": 21,
   "metadata": {},
   "outputs": [
    {
     "data": {
      "text/plain": [
       "[1, 3]"
      ]
     },
     "execution_count": 21,
     "metadata": {},
     "output_type": "execute_result"
    }
   ],
   "source": [
    "# slicing to print out the first N elements\n",
    "N = 2\n",
    "lst[:N]  # from 0th element to (Nth element - 1)"
   ]
  },
  {
   "cell_type": "code",
   "execution_count": 22,
   "metadata": {},
   "outputs": [
    {
     "data": {
      "text/plain": [
       "[4, 0]"
      ]
     },
     "execution_count": 22,
     "metadata": {},
     "output_type": "execute_result"
    }
   ],
   "source": [
    "# print out the final K elements\n",
    "K = 2\n",
    "lst[-K:]  #from 2nd last element to the end of element"
   ]
  },
  {
   "cell_type": "code",
   "execution_count": 23,
   "metadata": {},
   "outputs": [
    {
     "name": "stdout",
     "output_type": "stream",
     "text": [
      "[1, 3, 6, 7, 4, 5, 6, 1, 3, 5, 6, 4, 0]\n"
     ]
    },
    {
     "data": {
      "text/plain": [
       "[7, 4, 5, 6]"
      ]
     },
     "execution_count": 23,
     "metadata": {},
     "output_type": "execute_result"
    }
   ],
   "source": [
    "n = 3\n",
    "k = 7\n",
    "\n",
    "print(lst)\n",
    "lst[n:k]"
   ]
  },
  {
   "cell_type": "code",
   "execution_count": 24,
   "metadata": {},
   "outputs": [
    {
     "name": "stdout",
     "output_type": "stream",
     "text": [
      "hello\n",
      "my\n",
      "name\n",
      "is\n",
      "Mike\n"
     ]
    }
   ],
   "source": [
    "words = ['hello', 'my', 'name', 'is', 'Mike']\n",
    "\n",
    "for i in range(0, len(words)):\n",
    "    print(words[i])"
   ]
  },
  {
   "cell_type": "code",
   "execution_count": 25,
   "metadata": {},
   "outputs": [
    {
     "name": "stdout",
     "output_type": "stream",
     "text": [
      "1\n",
      "2\n",
      "cookies\n",
      "[6, 4]\n"
     ]
    }
   ],
   "source": [
    "alist = [1,2,'cookies', [6,4]]\n",
    "\n",
    "for i in alist:\n",
    "    print(i)"
   ]
  },
  {
   "cell_type": "code",
   "execution_count": 26,
   "metadata": {},
   "outputs": [
    {
     "data": {
      "text/plain": [
       "4"
      ]
     },
     "execution_count": 26,
     "metadata": {},
     "output_type": "execute_result"
    }
   ],
   "source": [
    "alist[-1][1]"
   ]
  },
  {
   "cell_type": "markdown",
   "metadata": {},
   "source": [
    "# Exercise"
   ]
  },
  {
   "cell_type": "code",
   "execution_count": 29,
   "metadata": {},
   "outputs": [
    {
     "data": {
      "text/latex": [
       "$\\displaystyle x \\left(4 - 6 x\\right) + 3 x \\quad \\Longleftrightarrow \\quad - 6 x^{2} + 7 x$"
      ],
      "text/plain": [
       "<IPython.core.display.Math object>"
      ]
     },
     "metadata": {},
     "output_type": "display_data"
    },
    {
     "data": {
      "text/latex": [
       "$\\displaystyle - x \\left(\\frac{2}{x} + \\frac{4}{x^{2}}\\right) + \\frac{x + 4}{4 x} \\quad \\Longleftrightarrow \\quad - \\frac{7}{4} - \\frac{3}{x}$"
      ],
      "text/plain": [
       "<IPython.core.display.Math object>"
      ]
     },
     "metadata": {},
     "output_type": "display_data"
    },
    {
     "data": {
      "text/latex": [
       "$\\displaystyle \\frac{\\left(x - 3\\right) \\left(x + 3\\right)}{9} \\quad \\Longleftrightarrow \\quad \\frac{x^{2}}{9} - 1$"
      ],
      "text/plain": [
       "<IPython.core.display.Math object>"
      ]
     },
     "metadata": {},
     "output_type": "display_data"
    }
   ],
   "source": [
    "import sympy as sym\n",
    "from IPython.display import display, Math\n",
    "x = sym.symbols('x')\n",
    "\n",
    "e1 = 2*x + x*(4-6*x) + x\n",
    "e2 = -x * (2/x + 4/x**2) + (4+x)/(4*x)\n",
    "e3 = (x+3)*(x-3)*x*(1/(9*x))\n",
    "\n",
    "exprs = [e1,e2,e3]\n",
    "\n",
    "for expri in exprs:\n",
    "    display(Math('%s \\\\quad \\\\Longleftrightarrow \\\\quad %s' %(sym.latex(expri), sym.latex(sym.expand(expri)))))"
   ]
  }
 ],
 "metadata": {
  "kernelspec": {
   "display_name": "base",
   "language": "python",
   "name": "python3"
  },
  "language_info": {
   "codemirror_mode": {
    "name": "ipython",
    "version": 3
   },
   "file_extension": ".py",
   "mimetype": "text/x-python",
   "name": "python",
   "nbconvert_exporter": "python",
   "pygments_lexer": "ipython3",
   "version": "3.11.3"
  },
  "orig_nbformat": 4
 },
 "nbformat": 4,
 "nbformat_minor": 2
}
