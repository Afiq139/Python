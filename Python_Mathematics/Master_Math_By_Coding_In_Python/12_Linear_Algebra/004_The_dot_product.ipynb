{
 "cells": [
  {
   "cell_type": "markdown",
   "metadata": {},
   "source": [
    "# 004 The dot product"
   ]
  },
  {
   "cell_type": "code",
   "execution_count": 28,
   "metadata": {},
   "outputs": [],
   "source": [
    "import numpy as np\n",
    "from IPython.display import display, Math"
   ]
  },
  {
   "cell_type": "code",
   "execution_count": 29,
   "metadata": {},
   "outputs": [
    {
     "name": "stdout",
     "output_type": "stream",
     "text": [
      "596 596 596\n"
     ]
    }
   ],
   "source": [
    "v = np.arange(10,22,3)\n",
    "w = np.arange(5,15,3)\n",
    "\n",
    "dp1 = 0\n",
    "for i in range(0, len(v)):\n",
    "    dp1 = dp1 + v[i] * w[i]\n",
    "\n",
    "dp2 = np.sum(np.multiply(v,w))\n",
    "dp3 = np.dot(v,w)\n",
    "\n",
    "print(dp1,dp2,dp3)"
   ]
  },
  {
   "cell_type": "markdown",
   "metadata": {},
   "source": [
    "# Exercise"
   ]
  },
  {
   "cell_type": "code",
   "execution_count": 30,
   "metadata": {},
   "outputs": [],
   "source": [
    "def mydotProduct(v,w):\n",
    "    \n",
    "    v = np.squeeze(v)\n",
    "    w = np.squeeze(w)\n",
    "    #test whether the dot product is defined\n",
    "\n",
    "    if len(v)!=len(w):\n",
    "        raise ValueError('Vector must have the same length!!')\n",
    "    \n",
    "    #compute and display the dot product\n",
    "    display(Math('v^Tw=%g' %np.dot(v,w)))"
   ]
  },
  {
   "cell_type": "code",
   "execution_count": 31,
   "metadata": {},
   "outputs": [
    {
     "name": "stdout",
     "output_type": "stream",
     "text": [
      "(1, 10)\n"
     ]
    },
    {
     "data": {
      "text/latex": [
       "$\\displaystyle v^Tw=-0.233162$"
      ],
      "text/plain": [
       "<IPython.core.display.Math object>"
      ]
     },
     "metadata": {},
     "output_type": "display_data"
    }
   ],
   "source": [
    "# v1 = np.array([0,1])\n",
    "# v2 = np.array([1,0])\n",
    "v1 = np.random.randn(1,10)\n",
    "v2 = np.random.randn(1,10)\n",
    "\n",
    "print(np.shape(v1))\n",
    "\n",
    "mydotProduct(v1,v2)"
   ]
  }
 ],
 "metadata": {
  "kernelspec": {
   "display_name": "base",
   "language": "python",
   "name": "python3"
  },
  "language_info": {
   "codemirror_mode": {
    "name": "ipython",
    "version": 3
   },
   "file_extension": ".py",
   "mimetype": "text/x-python",
   "name": "python",
   "nbconvert_exporter": "python",
   "pygments_lexer": "ipython3",
   "version": "3.11.3"
  }
 },
 "nbformat": 4,
 "nbformat_minor": 2
}
