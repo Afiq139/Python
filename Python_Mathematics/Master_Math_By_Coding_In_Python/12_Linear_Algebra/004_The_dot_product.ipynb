{
 "cells": [
  {
   "cell_type": "markdown",
   "metadata": {},
   "source": [
    "# 004 The dot product"
   ]
  },
  {
   "cell_type": "code",
   "execution_count": 1,
   "metadata": {},
   "outputs": [],
   "source": [
    "import numpy as np\n",
    "from IPython.display import display, Math"
   ]
  },
  {
   "cell_type": "code",
   "execution_count": 2,
   "metadata": {},
   "outputs": [
    {
     "name": "stdout",
     "output_type": "stream",
     "text": [
      "596 596 596\n"
     ]
    }
   ],
   "source": [
    "v = np.arange(10,22,3)\n",
    "w = np.arange(5,15,3)\n",
    "\n",
    "dp1 = 0\n",
    "for i in range(0, len(v)):\n",
    "    dp1 = dp1 + v[i] * w[i]\n",
    "\n",
    "dp2 = np.sum(np.multiply(v,w))\n",
    "dp3 = np.dot(v,w)\n",
    "\n",
    "print(dp1,dp2,dp3)"
   ]
  }
 ],
 "metadata": {
  "kernelspec": {
   "display_name": "base",
   "language": "python",
   "name": "python3"
  },
  "language_info": {
   "codemirror_mode": {
    "name": "ipython",
    "version": 3
   },
   "file_extension": ".py",
   "mimetype": "text/x-python",
   "name": "python",
   "nbconvert_exporter": "python",
   "pygments_lexer": "ipython3",
   "version": "3.11.3"
  }
 },
 "nbformat": 4,
 "nbformat_minor": 2
}
