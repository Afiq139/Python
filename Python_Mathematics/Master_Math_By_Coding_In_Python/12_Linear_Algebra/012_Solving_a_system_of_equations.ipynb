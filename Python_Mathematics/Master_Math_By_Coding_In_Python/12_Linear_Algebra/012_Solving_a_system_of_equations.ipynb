{
 "cells": [
  {
   "cell_type": "markdown",
   "metadata": {},
   "source": [
    "# 012 Solving a system of equations"
   ]
  },
  {
   "cell_type": "code",
   "execution_count": 5,
   "metadata": {},
   "outputs": [],
   "source": [
    "import numpy as np\n",
    "import matplotlib.pyplot as plt"
   ]
  },
  {
   "cell_type": "code",
   "execution_count": 7,
   "metadata": {},
   "outputs": [
    {
     "name": "stdout",
     "output_type": "stream",
     "text": [
      "[ 3. -1.  4.]\n",
      "[ 3. -1.  4.]\n"
     ]
    }
   ],
   "source": [
    "x = np.array([ [2,1,-1],[3,4,2],[1,-5,-2] ])\n",
    "y = np.array([1,13,0])\n",
    "\n",
    "beta1 = np.linalg.inv(x.T@x) @ (x.T@y)\n",
    "print(beta1)\n",
    "\n",
    "beta2 = np.linalg.solve(x,y)\n",
    "print(beta2)"
   ]
  }
 ],
 "metadata": {
  "kernelspec": {
   "display_name": "base",
   "language": "python",
   "name": "python3"
  },
  "language_info": {
   "codemirror_mode": {
    "name": "ipython",
    "version": 3
   },
   "file_extension": ".py",
   "mimetype": "text/x-python",
   "name": "python",
   "nbconvert_exporter": "python",
   "pygments_lexer": "ipython3",
   "version": "3.11.3"
  }
 },
 "nbformat": 4,
 "nbformat_minor": 2
}
