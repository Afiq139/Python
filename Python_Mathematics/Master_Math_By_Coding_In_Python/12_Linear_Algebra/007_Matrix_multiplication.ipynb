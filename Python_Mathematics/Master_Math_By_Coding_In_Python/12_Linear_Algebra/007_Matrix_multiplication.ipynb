{
 "cells": [
  {
   "cell_type": "markdown",
   "metadata": {},
   "source": [
    "# 007 Matrix Multiplication"
   ]
  },
  {
   "cell_type": "code",
   "execution_count": 33,
   "metadata": {},
   "outputs": [],
   "source": [
    "import numpy as np"
   ]
  },
  {
   "cell_type": "code",
   "execution_count": 34,
   "metadata": {},
   "outputs": [
    {
     "name": "stdout",
     "output_type": "stream",
     "text": [
      "(10, 10)\n",
      "(14, 14)\n"
     ]
    }
   ],
   "source": [
    "A = np.random.randn(14,10)\n",
    "B = np.random.randn(14,10)\n",
    "C = np.random.randn(10,14)\n",
    "\n",
    "# 10 x 14 14 x 10\n",
    "print(np.shape(C@B))\n",
    "print(np.shape(B@C))"
   ]
  },
  {
   "cell_type": "markdown",
   "metadata": {},
   "source": [
    "# Exercise"
   ]
  },
  {
   "cell_type": "code",
   "execution_count": 35,
   "metadata": {},
   "outputs": [],
   "source": [
    "def matrixMultiplication(x,y):\n",
    "\n",
    "    # get matrix sizes\n",
    "    szX = np.shape(x)\n",
    "    szY = np.shape(y)\n",
    "\n",
    "    # check sizes and give error if multiplication is not valid\n",
    "    if szX[1]!=szY[0]:\n",
    "        raise ValueError('\"Inner\" dimension don\\'t match ')\n",
    "    \n",
    "    # initialize\n",
    "    z = np.zeros((szX[0],szY[1]))\n",
    "\n",
    "    # compute!\n",
    "    for i in range(szX[0]):\n",
    "        for j in range(szY[1]):\n",
    "            z[i,j] = np.dot( x[i,:], y[:,j])\n",
    "    \n",
    "    return z"
   ]
  },
  {
   "cell_type": "code",
   "execution_count": 36,
   "metadata": {},
   "outputs": [
    {
     "name": "stdout",
     "output_type": "stream",
     "text": [
      "[[ 1.58272929 -2.29670491 -0.91552113  0.11058128]\n",
      " [ 0.00618497 -3.83976143 -0.02832866 -1.46055124]\n",
      " [-1.49589077  2.96168702 -1.16464035 -0.07445615]\n",
      " [-1.03462099 -3.31211779  1.20064461 -1.0224788 ]]\n",
      "[[0. 0. 0. 0.]\n",
      " [0. 0. 0. 0.]\n",
      " [0. 0. 0. 0.]\n",
      " [0. 0. 0. 0.]]\n"
     ]
    }
   ],
   "source": [
    "x = np.random.randn(4,6)\n",
    "y = np.random.randn(6,4)\n",
    "\n",
    "z1 = matrixMultiplication(x,y)\n",
    "z2 = x@y\n",
    "\n",
    "print(z1)\n",
    "print(z1-z2)"
   ]
  }
 ],
 "metadata": {
  "kernelspec": {
   "display_name": "base",
   "language": "python",
   "name": "python3"
  },
  "language_info": {
   "codemirror_mode": {
    "name": "ipython",
    "version": 3
   },
   "file_extension": ".py",
   "mimetype": "text/x-python",
   "name": "python",
   "nbconvert_exporter": "python",
   "pygments_lexer": "ipython3",
   "version": "3.11.3"
  }
 },
 "nbformat": 4,
 "nbformat_minor": 2
}
