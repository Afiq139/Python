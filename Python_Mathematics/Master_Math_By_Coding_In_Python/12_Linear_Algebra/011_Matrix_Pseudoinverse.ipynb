{
 "cells": [
  {
   "cell_type": "markdown",
   "metadata": {},
   "source": [
    "# 011 Matrix Pseudoinverse Exercise"
   ]
  },
  {
   "cell_type": "code",
   "execution_count": 5,
   "metadata": {},
   "outputs": [],
   "source": [
    "import numpy as np\n",
    "import matplotlib.pyplot as plt"
   ]
  },
  {
   "cell_type": "code",
   "execution_count": 6,
   "metadata": {},
   "outputs": [
    {
     "name": "stdout",
     "output_type": "stream",
     "text": [
      "[[ 0.65861946 -0.79932455 -1.57381928  0.16342715 -1.41344714 -0.36592458\n",
      "   0.8998347 ]\n",
      " [ 0.81667576 -1.43812333  0.94843531 -0.98480763 -0.43714541 -1.20241804\n",
      "   0.26220286]\n",
      " [ 1.11679179  0.55198241 -0.33215756  1.49538414 -0.18662214 -1.58143007\n",
      "   1.65751279]\n",
      " [-1.00022097  1.79002933  1.55303205 -1.29053202  0.33321795  0.1092161\n",
      "  -0.74328995]\n",
      " [ 0.89322098  0.2467343   0.07110305  2.70774513  1.45093915 -0.49060886\n",
      "  -0.61129939]]\n",
      "[[ 1.  0. -0.  0.  0.]\n",
      " [-0.  1.  0. -0. -0.]\n",
      " [ 0.  0.  1.  0.  0.]\n",
      " [ 0.  0. -0.  1.  0.]\n",
      " [-0. -0.  0. -0.  1.]]\n"
     ]
    },
    {
     "data": {
      "image/png": "[encoded data removed]",
      "text/plain": [
       "<Figure size 640x480 with 3 Axes>"
      ]
     },
     "metadata": {},
     "output_type": "display_data"
    }
   ],
   "source": [
    "# pinv with repeated column in square matrix, and with non-square matrix\n",
    "m = 5\n",
    "A = np.random.randint(-m, m+1,m+2)\n",
    "A = np.random.randn(m,m+2)\n",
    "# A[:,0] = A[:,1]\n",
    "print(A)\n",
    "\n",
    "# A = np.random.randn(m,m+2)\n",
    "\n",
    "# compute pseudo-inverse\n",
    "Apinv = np.linalg.pinv(A)\n",
    "print(np.round(A@Apinv,2))\n",
    "\n",
    "fig,ax = plt.subplots(1,3)\n",
    "\n",
    "ax[0].imshow(A)\n",
    "ax[0].set_title('A')\n",
    "\n",
    "ax[1].imshow(Apinv)\n",
    "ax[1].set_title('A$^{*}$')\n",
    "\n",
    "ax[2].imshow(A@Apinv)\n",
    "ax[2].set_title('AA$^{*}$')\n",
    "\n",
    "for i in ax:\n",
    "    i.axis('off')\n",
    "\n",
    "plt.show()"
   ]
  }
 ],
 "metadata": {
  "kernelspec": {
   "display_name": "base",
   "language": "python",
   "name": "python3"
  },
  "language_info": {
   "codemirror_mode": {
    "name": "ipython",
    "version": 3
   },
   "file_extension": ".py",
   "mimetype": "text/x-python",
   "name": "python",
   "nbconvert_exporter": "python",
   "pygments_lexer": "ipython3",
   "version": "3.11.3"
  }
 },
 "nbformat": 4,
 "nbformat_minor": 2
}
