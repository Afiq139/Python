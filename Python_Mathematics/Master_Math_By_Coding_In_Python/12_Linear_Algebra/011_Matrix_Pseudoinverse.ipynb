{
 "cells": [
  {
   "cell_type": "markdown",
   "metadata": {},
   "source": [
    "# 011 Matrix Pseudoinverse Exercise"
   ]
  },
  {
   "cell_type": "code",
   "execution_count": 1,
   "metadata": {},
   "outputs": [],
   "source": [
    "import numpy as np\n",
    "import matplotlib.pyplot as plt"
   ]
  },
  {
   "cell_type": "code",
   "execution_count": 2,
   "metadata": {},
   "outputs": [
    {
     "name": "stdout",
     "output_type": "stream",
     "text": [
      "[[-4 -4 -2  4  2]\n",
      " [ 5  5  3 -3  4]\n",
      " [ 5  5  5 -4 -1]\n",
      " [ 4  4  2  3  0]\n",
      " [-5 -5 -2 -2 -2]]\n"
     ]
    },
    {
     "data": {
      "image/png": "[encoded data removed]",
      "text/plain": [
       "<Figure size 640x480 with 3 Axes>"
      ]
     },
     "metadata": {},
     "output_type": "display_data"
    }
   ],
   "source": [
    "# pinv with repeated column in square matrix, and with non-square matrix\n",
    "m = 5\n",
    "A = np.random.randint(-5,6,(m,m))\n",
    "A[:,0] = A[:,1]\n",
    "print(A)\n",
    "\n",
    "# A = np.random.randn(m,m+2)\n",
    "\n",
    "# compute pseudo-inverse\n",
    "Ainv = np.linalg.pinv(A)\n",
    "\n",
    "fig,ax = plt.subplots(1,3)\n",
    "\n",
    "ax[0].imshow(A)\n",
    "ax[0].set_title('A')\n",
    "\n",
    "ax[1].imshow(Ainv)\n",
    "ax[1].set_title('A$^{*}$')\n",
    "\n",
    "ax[2].imshow(A@Ainv)\n",
    "ax[2].set_title('AA$^{*}$')\n",
    "\n",
    "for i in ax:\n",
    "    i.axis('off')\n",
    "\n",
    "plt.show()"
   ]
  }
 ],
 "metadata": {
  "kernelspec": {
   "display_name": "base",
   "language": "python",
   "name": "python3"
  },
  "language_info": {
   "codemirror_mode": {
    "name": "ipython",
    "version": 3
   },
   "file_extension": ".py",
   "mimetype": "text/x-python",
   "name": "python",
   "nbconvert_exporter": "python",
   "pygments_lexer": "ipython3",
   "version": "3.11.3"
  }
 },
 "nbformat": 4,
 "nbformat_minor": 2
}
