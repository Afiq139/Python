{
 "cells": [
  {
   "cell_type": "markdown",
   "metadata": {},
   "source": [
    "# 010 Matrix Inverse"
   ]
  },
  {
   "cell_type": "code",
   "execution_count": 4,
   "metadata": {},
   "outputs": [],
   "source": [
    "import numpy as np\n",
    "import matplotlib.pyplot as plt"
   ]
  },
  {
   "cell_type": "code",
   "execution_count": 5,
   "metadata": {},
   "outputs": [
    {
     "data": {
      "image/png": "[encoded data removed]",
      "text/plain": [
       "<Figure size 640x480 with 3 Axes>"
      ]
     },
     "metadata": {},
     "output_type": "display_data"
    }
   ],
   "source": [
    "# random matrices are nearly always invertible\n",
    "\n",
    "m = 5\n",
    "\n",
    "A = np.random.randint(-5,6,(m,m))\n",
    "Ainv = np.linalg.inv(A)\n",
    "\n",
    "fig,ax = plt.subplots(1,3)\n",
    "\n",
    "ax[0].imshow(A)\n",
    "ax[0].set_title('A')\n",
    "\n",
    "ax[1].imshow(Ainv)\n",
    "ax[1].set_title('A$^{-1}$')\n",
    "\n",
    "ax[2].imshow(A@Ainv)\n",
    "ax[2].set_title('AA$^{-1}$')\n",
    "\n",
    "for i in ax:\n",
    "    i.axis('off')\n",
    "\n",
    "plt.show()"
   ]
  },
  {
   "cell_type": "code",
   "execution_count": 6,
   "metadata": {},
   "outputs": [
    {
     "name": "stdout",
     "output_type": "stream",
     "text": [
      "[[-4 -4 -2  0 -4]\n",
      " [ 4  4 -1  4  2]\n",
      " [ 0  0  4  1  5]\n",
      " [-5 -5 -4 -5 -4]\n",
      " [-4 -4  3  5 -5]]\n"
     ]
    }
   ],
   "source": [
    "# also no inverse for square matrix with repeated columns\n",
    "\n",
    "A = np.random.randint(-5,6,(m,m))\n",
    "A[:,0] = A[:,1]\n",
    "print(A)\n",
    "\n",
    "Ainv = np.linalg.inv(A)"
   ]
  }
 ],
 "metadata": {
  "kernelspec": {
   "display_name": "base",
   "language": "python",
   "name": "python3"
  },
  "language_info": {
   "codemirror_mode": {
    "name": "ipython",
    "version": 3
   },
   "file_extension": ".py",
   "mimetype": "text/x-python",
   "name": "python",
   "nbconvert_exporter": "python",
   "pygments_lexer": "ipython3",
   "version": "3.11.3"
  }
 },
 "nbformat": 4,
 "nbformat_minor": 2
}
