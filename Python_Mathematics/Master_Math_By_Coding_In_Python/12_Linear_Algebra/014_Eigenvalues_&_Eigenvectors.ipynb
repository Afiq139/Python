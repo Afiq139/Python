{
 "cells": [
  {
   "cell_type": "markdown",
   "metadata": {},
   "source": [
    "# 014 Eigenvalues and Eigenvectors"
   ]
  },
  {
   "cell_type": "code",
   "execution_count": 6,
   "metadata": {},
   "outputs": [],
   "source": [
    "import numpy as np \n",
    "import matplotlib.pyplot as plt "
   ]
  },
  {
   "cell_type": "code",
   "execution_count": 7,
   "metadata": {},
   "outputs": [
    {
     "name": "stdout",
     "output_type": "stream",
     "text": [
      "[66.78581246 30.67006495 23.82282308  2.3021208   0.41917872]\n"
     ]
    },
    {
     "data": {
      "image/png": "[encoded data removed]",
      "text/plain": [
       "<Figure size 640x480 with 3 Axes>"
      ]
     },
     "metadata": {},
     "output_type": "display_data"
    }
   ],
   "source": [
    "# the matrix\n",
    "M = np.random.randint(-5,5,(5,5))\n",
    "M = M@M.T\n",
    "\n",
    "# its eigendecomposition\n",
    "eigvals,eigvecs = np.linalg.eig(M)\n",
    "print(eigvals)\n",
    "\n",
    "# visualize the matrices\n",
    "fig,ax = plt.subplots(1,3)\n",
    "\n",
    "ax[0].imshow(M)\n",
    "ax[0].set_title('The matrix')\n",
    "\n",
    "ax[1].imshow(np.diag(eigvals))\n",
    "ax[1].set_title('Eigenvalues')\n",
    "\n",
    "ax[2].imshow(eigvecs)\n",
    "ax[2].set_title('Eigenvectors')\n",
    "\n",
    "\n",
    "for i in ax:\n",
    "    i.axis('off')\n",
    "\n",
    "plt.show()"
   ]
  },
  {
   "cell_type": "code",
   "execution_count": 8,
   "metadata": {},
   "outputs": [
    {
     "name": "stdout",
     "output_type": "stream",
     "text": [
      "[24.846545   31.9737487  27.55144112 18.83338975 41.31458416]\n",
      "[24.846545   31.9737487  27.55144112 18.83338975 41.31458416]\n"
     ]
    }
   ],
   "source": [
    "# but what do they mean??\n",
    "\n",
    "Mv = M@eigvecs[:,0]\n",
    "lv = eigvals[0] * eigvecs[:,0]\n",
    "\n",
    "print(Mv)\n",
    "print(lv)"
   ]
  }
 ],
 "metadata": {
  "kernelspec": {
   "display_name": "base",
   "language": "python",
   "name": "python3"
  },
  "language_info": {
   "codemirror_mode": {
    "name": "ipython",
    "version": 3
   },
   "file_extension": ".py",
   "mimetype": "text/x-python",
   "name": "python",
   "nbconvert_exporter": "python",
   "pygments_lexer": "ipython3",
   "version": "3.11.3"
  }
 },
 "nbformat": 4,
 "nbformat_minor": 2
}
