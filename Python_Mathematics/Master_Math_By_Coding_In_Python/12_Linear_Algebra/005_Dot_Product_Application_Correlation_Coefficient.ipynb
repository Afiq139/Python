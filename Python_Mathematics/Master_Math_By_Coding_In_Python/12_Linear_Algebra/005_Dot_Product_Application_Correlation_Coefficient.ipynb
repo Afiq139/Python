{
 "cells": [
  {
   "cell_type": "markdown",
   "metadata": {},
   "source": [
    "# 005 Dot Product Application Correlation Coefficient"
   ]
  },
  {
   "cell_type": "code",
   "execution_count": 15,
   "metadata": {},
   "outputs": [],
   "source": [
    "import numpy as np\n",
    "import matplotlib.pyplot as plt"
   ]
  },
  {
   "cell_type": "code",
   "execution_count": 16,
   "metadata": {},
   "outputs": [
    {
     "name": "stdout",
     "output_type": "stream",
     "text": [
      "0.60530206024143\n",
      "[[1.         0.60530206]\n",
      " [0.60530206 1.        ]]\n"
     ]
    }
   ],
   "source": [
    "# data\n",
    "mikes_courses = [4,5,8,2,9,9,1,3,7]\n",
    "life_happiness = [6,7,9,3,9,3,1,6,7]\n",
    "\n",
    "# mean-center\n",
    "m = mikes_courses - np.mean(mikes_courses)\n",
    "l = life_happiness - np.mean(life_happiness)\n",
    "\n",
    "# compute the correlation\n",
    "numer = np.dot(m,l)\n",
    "denom = np.sqrt(np.dot(m,m)) * np.sqrt(np.dot(l,l))\n",
    "\n",
    "r1 = numer/denom\n",
    "r2 = np.corrcoef(m,l)\n",
    "\n",
    "print(r1)\n",
    "print(r2)"
   ]
  }
 ],
 "metadata": {
  "kernelspec": {
   "display_name": "base",
   "language": "python",
   "name": "python3"
  },
  "language_info": {
   "codemirror_mode": {
    "name": "ipython",
    "version": 3
   },
   "file_extension": ".py",
   "mimetype": "text/x-python",
   "name": "python",
   "nbconvert_exporter": "python",
   "pygments_lexer": "ipython3",
   "version": "3.11.3"
  }
 },
 "nbformat": 4,
 "nbformat_minor": 2
}
