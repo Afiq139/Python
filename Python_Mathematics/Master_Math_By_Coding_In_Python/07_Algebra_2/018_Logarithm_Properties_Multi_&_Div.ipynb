{
 "cells": [
  {
   "cell_type": "markdown",
   "metadata": {},
   "source": [
    "# 018 Logarithm properties Multiplication and Division"
   ]
  },
  {
   "cell_type": "code",
   "execution_count": 1,
   "metadata": {},
   "outputs": [],
   "source": [
    "import numpy as np\n",
    "from IPython.display import display, Math"
   ]
  },
  {
   "cell_type": "code",
   "execution_count": 5,
   "metadata": {},
   "outputs": [
    {
     "data": {
      "text/latex": [
       "$\\displaystyle \\log(3\\times4) = 2.48491$"
      ],
      "text/plain": [
       "<IPython.core.display.Math object>"
      ]
     },
     "metadata": {},
     "output_type": "display_data"
    },
    {
     "data": {
      "text/latex": [
       "$\\displaystyle \\log(3\\times\\log(4) = 1.523$"
      ],
      "text/plain": [
       "<IPython.core.display.Math object>"
      ]
     },
     "metadata": {},
     "output_type": "display_data"
    },
    {
     "data": {
      "text/latex": [
       "$\\displaystyle \\log(3) + \\log(4) = 2.48491$"
      ],
      "text/plain": [
       "<IPython.core.display.Math object>"
      ]
     },
     "metadata": {},
     "output_type": "display_data"
    },
    {
     "data": {
      "text/latex": [
       "$\\displaystyle \\log(3\\times4) = \\log(3) + \\log(4)$"
      ],
      "text/plain": [
       "<IPython.core.display.Math object>"
      ]
     },
     "metadata": {},
     "output_type": "display_data"
    },
    {
     "data": {
      "text/latex": [
       "$\\displaystyle \\log(3\\times4) \\neq \\log(3) \\times log(4)$"
      ],
      "text/plain": [
       "<IPython.core.display.Math object>"
      ]
     },
     "metadata": {},
     "output_type": "display_data"
    }
   ],
   "source": [
    "a = 3\n",
    "b = 4\n",
    "\n",
    "res1 = np.log(a*b)\n",
    "res2 = np.log(a) * np.log(b)\n",
    "res3 = np.log(a) + np.log(b)\n",
    "\n",
    "display(Math('\\\\log(%g\\\\times%g) = %g'%(a,b,res1)))\n",
    "display(Math('\\\\log(%g\\\\times\\\\log(%g) = %g'%(a,b,res2)))\n",
    "display(Math('\\\\log(%g) + \\\\log(%g) = %g'%(a,b,res3)))\n",
    "\n",
    "display(Math('\\\\log(%g\\\\times%g) = \\\\log(%g) + \\\\log(%g)'%(a,b,a,b)))\n",
    "display(Math('\\\\log(%g\\\\times%g) \\\\neq \\\\log(%g) \\\\times log(%g)'%(a,b,a,b)))"
   ]
  },
  {
   "cell_type": "code",
   "execution_count": 9,
   "metadata": {},
   "outputs": [
    {
     "data": {
      "text/latex": [
       "$\\displaystyle \\log{\\left( \\frac{3}{4} \\right)} = -0.287682$"
      ],
      "text/plain": [
       "<IPython.core.display.Math object>"
      ]
     },
     "metadata": {},
     "output_type": "display_data"
    },
    {
     "data": {
      "text/latex": [
       "$\\displaystyle \\log(3)/\\log(4) = 0.792481$"
      ],
      "text/plain": [
       "<IPython.core.display.Math object>"
      ]
     },
     "metadata": {},
     "output_type": "display_data"
    },
    {
     "data": {
      "text/latex": [
       "$\\displaystyle \\log(3) - \\log(4) = -0.287682$"
      ],
      "text/plain": [
       "<IPython.core.display.Math object>"
      ]
     },
     "metadata": {},
     "output_type": "display_data"
    },
    {
     "data": {
      "text/latex": [
       "$\\displaystyle \\log{\\left( \\frac{3}{4} \\right)} = \\log(3) - \\log(4)$"
      ],
      "text/plain": [
       "<IPython.core.display.Math object>"
      ]
     },
     "metadata": {},
     "output_type": "display_data"
    },
    {
     "data": {
      "text/latex": [
       "$\\displaystyle \\log{\\left( \\frac{3}{4} \\right)} \\neq \\frac{\\log(3)}{\\log(4)}$"
      ],
      "text/plain": [
       "<IPython.core.display.Math object>"
      ]
     },
     "metadata": {},
     "output_type": "display_data"
    }
   ],
   "source": [
    "res4 = np.log(a/b)\n",
    "res5 = np.log(a) / np.log(b)\n",
    "res6 = np.log(a) - np.log(b)\n",
    "\n",
    "display(Math('\\\\log{\\\\left( \\\\frac{%g}{%g} \\\\right)} = %g'%(a,b,res4)))\n",
    "display(Math('\\\\log(%g)/\\\\log(%g) = %g'%(a,b,res5)))\n",
    "display(Math('\\\\log(%g) - \\\\log(%g) = %g'%(a,b,res6)))\n",
    "\n",
    "display(Math('\\\\log{\\\\left( \\\\frac{%g}{%g} \\\\right)} = \\\\log(%g) - \\\\log(%g)' %(a,b,a,b)))\n",
    "display(Math('\\\\log{\\\\left( \\\\frac{%g}{%g} \\\\right)} \\\\neq \\\\frac{\\\\log(%g)}{\\\\log(%g)}' %(a,b,a,b)))"
   ]
  },
  {
   "cell_type": "code",
   "execution_count": 10,
   "metadata": {},
   "outputs": [
    {
     "name": "stdout",
     "output_type": "stream",
     "text": [
      "4.394449154672439 4.394449154672439 4.394449154672439\n"
     ]
    }
   ],
   "source": [
    "expr1 = np.log(a**b)\n",
    "expr2 = b*np.log(a)\n",
    "expr3 = np.log(a) + np.log(a) + np.log(a) + np.log(a)\n",
    "\n",
    "print(expr1, expr2, expr3)"
   ]
  }
 ],
 "metadata": {
  "kernelspec": {
   "display_name": "base",
   "language": "python",
   "name": "python3"
  },
  "language_info": {
   "codemirror_mode": {
    "name": "ipython",
    "version": 3
   },
   "file_extension": ".py",
   "mimetype": "text/x-python",
   "name": "python",
   "nbconvert_exporter": "python",
   "pygments_lexer": "ipython3",
   "version": "3.11.3"
  }
 },
 "nbformat": 4,
 "nbformat_minor": 2
}
