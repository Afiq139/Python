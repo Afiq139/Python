{
 "cells": [
  {
   "cell_type": "markdown",
   "metadata": {},
   "source": [
    "# 011 Revisiting the quadratic equation with complex numbers"
   ]
  },
  {
   "cell_type": "code",
   "execution_count": 18,
   "metadata": {},
   "outputs": [],
   "source": [
    "import numpy as np\n",
    "import scipy as sp\n",
    "import matplotlib.pyplot as plt"
   ]
  },
  {
   "cell_type": "code",
   "execution_count": 19,
   "metadata": {},
   "outputs": [],
   "source": [
    "def quadeq(a,b,c):\n",
    "\n",
    "    #initialize\n",
    "    out = np.zeros(2, dtype=complex)\n",
    "\n",
    "    #compute\n",
    "    out[0] = (-b - np.lib.scimath.sqrt(b**2 - 4*a*c)) / (2*a)\n",
    "    out[1] = (-b + np.lib.scimath.sqrt(b**2 - 4*a*c)) / (2*a)\n",
    "\n",
    "    return out"
   ]
  },
  {
   "cell_type": "code",
   "execution_count": 33,
   "metadata": {},
   "outputs": [
    {
     "data": {
      "image/png": "[encoded data removed]",
      "text/plain": [
       "<Figure size 640x480 with 3 Axes>"
      ]
     },
     "metadata": {},
     "output_type": "display_data"
    }
   ],
   "source": [
    "a = 1\n",
    "b = range(-5, 6)\n",
    "c = range(-2, 11)\n",
    "\n",
    "M = np.zeros((len(b), len(c)), dtype=complex)\n",
    "\n",
    "for i in range(0, len(b)):\n",
    "    for j in range(0, len(c)):\n",
    "        M[i,j] = quadeq(a,b[i], c[j])[0]\n",
    "\n",
    "\n",
    "plt.subplot(1,3,1)\n",
    "plt.imshow(np.real(M), extent=[c[0], c[-1], b[0], b[-1]])\n",
    "# plt.xlabel('c')\n",
    "# plt.ylabel('b')\n",
    "# plt.axis('off')\n",
    "plt.title('Real Part')\n",
    "# plt.colorbar()\n",
    "\n",
    "\n",
    "plt.subplot(1,3,2)\n",
    "plt.imshow(np.imag(M), extent=[c[0], c[-1], b[0], b[-1]])\n",
    "# plt.xlabel('c')\n",
    "# plt.ylabel('b')\n",
    "plt.axis('off')\n",
    "plt.title('Image Part')\n",
    "# plt.colorbar()\n",
    "\n",
    "plt.subplot(1,3,3)\n",
    "plt.imshow(np.absolute(M), extent=[c[0], c[-1], b[0], b[-1]])\n",
    "# plt.xlabel('c')\n",
    "# plt.ylabel('b')\n",
    "plt.axis('off')\n",
    "plt.title('Magnitude')\n",
    "# plt.colorbar()\n",
    "\n",
    "plt.show()"
   ]
  }
 ],
 "metadata": {
  "kernelspec": {
   "display_name": "base",
   "language": "python",
   "name": "python3"
  },
  "language_info": {
   "codemirror_mode": {
    "name": "ipython",
    "version": 3
   },
   "file_extension": ".py",
   "mimetype": "text/x-python",
   "name": "python",
   "nbconvert_exporter": "python",
   "pygments_lexer": "ipython3",
   "version": "3.11.3"
  }
 },
 "nbformat": 4,
 "nbformat_minor": 2
}
