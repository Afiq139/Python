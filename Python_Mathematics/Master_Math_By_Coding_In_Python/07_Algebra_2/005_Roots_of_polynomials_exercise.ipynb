{
 "cells": [
  {
   "cell_type": "markdown",
   "metadata": {},
   "source": [
    "# 005 Roots of Polynomials Exercise"
   ]
  },
  {
   "cell_type": "code",
   "execution_count": 1,
   "metadata": {},
   "outputs": [],
   "source": [
    "import numpy as np\n",
    "import sympy as sym\n",
    "from IPython.display import display, Math"
   ]
  },
  {
   "cell_type": "code",
   "execution_count": 2,
   "metadata": {},
   "outputs": [
    {
     "name": "stdout",
     "output_type": "stream",
     "text": [
      "A degree-0 polynomial has 0 roots\n",
      "A degree-1 polynomial has 1 roots\n",
      "A degree-2 polynomial has 2 roots\n",
      "A degree-3 polynomial has 3 roots\n",
      "A degree-4 polynomial has 4 roots\n",
      "A degree-5 polynomial has 5 roots\n",
      "A degree-6 polynomial has 6 roots\n",
      "A degree-7 polynomial has 7 roots\n",
      "A degree-8 polynomial has 8 roots\n",
      "A degree-9 polynomial has 9 roots\n"
     ]
    }
   ],
   "source": [
    "for i in range(1,11):\n",
    "    coefs = np.arange(1, i+1)\n",
    "    print('A degree-%s polynomial has %s roots' %(len(coefs)-1, len(np.roots(coefs))))"
   ]
  }
 ],
 "metadata": {
  "kernelspec": {
   "display_name": "base",
   "language": "python",
   "name": "python3"
  },
  "language_info": {
   "codemirror_mode": {
    "name": "ipython",
    "version": 3
   },
   "file_extension": ".py",
   "mimetype": "text/x-python",
   "name": "python",
   "nbconvert_exporter": "python",
   "pygments_lexer": "ipython3",
   "version": "3.11.3"
  }
 },
 "nbformat": 4,
 "nbformat_minor": 2
}
