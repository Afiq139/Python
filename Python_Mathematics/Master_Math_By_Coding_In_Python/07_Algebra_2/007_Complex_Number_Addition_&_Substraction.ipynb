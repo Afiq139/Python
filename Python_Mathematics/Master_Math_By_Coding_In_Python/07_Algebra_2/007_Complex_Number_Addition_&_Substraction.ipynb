{
 "cells": [
  {
   "cell_type": "markdown",
   "metadata": {},
   "source": [
    "# 007 Complex Number Addition & Substraction"
   ]
  },
  {
   "cell_type": "code",
   "execution_count": 4,
   "metadata": {},
   "outputs": [],
   "source": [
    "import numpy as np\n",
    "import sympy as sym"
   ]
  },
  {
   "cell_type": "code",
   "execution_count": 11,
   "metadata": {},
   "outputs": [
    {
     "name": "stdout",
     "output_type": "stream",
     "text": [
      "1j\n",
      "1j\n",
      "(6.123233995736766e-17+1j)\n",
      "I\n"
     ]
    }
   ],
   "source": [
    "print(1j) #can use\n",
    "#print(np.sqrt(-1)) #nan = not a number\n",
    "print(np.sqrt(-1,dtype='complex')) #can use\n",
    "print((-1)**(1/2)) #not good\n",
    "print(sym.I) #can use"
   ]
  }
 ],
 "metadata": {
  "kernelspec": {
   "display_name": "base",
   "language": "python",
   "name": "python3"
  },
  "language_info": {
   "codemirror_mode": {
    "name": "ipython",
    "version": 3
   },
   "file_extension": ".py",
   "mimetype": "text/x-python",
   "name": "python",
   "nbconvert_exporter": "python",
   "pygments_lexer": "ipython3",
   "version": "3.11.3"
  }
 },
 "nbformat": 4,
 "nbformat_minor": 2
}
