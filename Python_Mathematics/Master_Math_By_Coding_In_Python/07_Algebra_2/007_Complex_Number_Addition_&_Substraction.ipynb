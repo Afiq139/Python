{
 "cells": [
  {
   "cell_type": "markdown",
   "metadata": {},
   "source": [
    "# 007 Complex Number Addition & Substraction"
   ]
  },
  {
   "cell_type": "code",
   "execution_count": 13,
   "metadata": {},
   "outputs": [],
   "source": [
    "import numpy as np\n",
    "import sympy as sym"
   ]
  },
  {
   "cell_type": "code",
   "execution_count": 14,
   "metadata": {},
   "outputs": [
    {
     "name": "stdout",
     "output_type": "stream",
     "text": [
      "1j\n",
      "1j\n",
      "(6.123233995736766e-17+1j)\n",
      "I\n"
     ]
    }
   ],
   "source": [
    "print(1j) #can use\n",
    "#print(np.sqrt(-1)) #nan = not a number\n",
    "print(np.sqrt(-1,dtype='complex')) #can use\n",
    "print((-1)**(1/2)) #not good\n",
    "print(sym.I) #can use"
   ]
  },
  {
   "cell_type": "code",
   "execution_count": 17,
   "metadata": {},
   "outputs": [
    {
     "name": "stdout",
     "output_type": "stream",
     "text": [
      "(4-5j)\n",
      "(4-5j)\n",
      "<class 'complex'>\n",
      "<class 'complex'>\n"
     ]
    }
   ],
   "source": [
    "real_part = 4\n",
    "imag_part = -5\n",
    "\n",
    "cn1 = complex(real_part,imag_part)\n",
    "cn2 = real_part + 1j*imag_part\n",
    "\n",
    "print(cn1)\n",
    "print(cn2)\n",
    "print(type(cn1))\n",
    "print(type(cn2))"
   ]
  },
  {
   "cell_type": "code",
   "execution_count": null,
   "metadata": {},
   "outputs": [],
   "source": []
  }
 ],
 "metadata": {
  "kernelspec": {
   "display_name": "base",
   "language": "python",
   "name": "python3"
  },
  "language_info": {
   "codemirror_mode": {
    "name": "ipython",
    "version": 3
   },
   "file_extension": ".py",
   "mimetype": "text/x-python",
   "name": "python",
   "nbconvert_exporter": "python",
   "pygments_lexer": "ipython3",
   "version": "3.11.3"
  }
 },
 "nbformat": 4,
 "nbformat_minor": 2
}
