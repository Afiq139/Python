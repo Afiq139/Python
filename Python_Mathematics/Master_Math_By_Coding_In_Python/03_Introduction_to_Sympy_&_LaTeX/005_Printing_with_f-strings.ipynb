{
 "cells": [
  {
   "cell_type": "markdown",
   "metadata": {},
   "source": [
    "# 005 Printing with f-strings"
   ]
  },
  {
   "cell_type": "code",
   "execution_count": 6,
   "metadata": {},
   "outputs": [],
   "source": [
    "import sympy as sym\n",
    "from IPython.display import display, Math"
   ]
  },
  {
   "cell_type": "code",
   "execution_count": 7,
   "metadata": {},
   "outputs": [
    {
     "name": "stdout",
     "output_type": "stream",
     "text": [
      "Hi, my name is Shafiq and i eat 7 chocolates everyday!!\n"
     ]
    }
   ],
   "source": [
    "# f-strings\n",
    "\n",
    "svar = 'Shafiq'\n",
    "nvar = 7\n",
    "\n",
    "print(f'Hi, my name is {svar} and i eat {nvar} chocolates everyday!!')"
   ]
  },
  {
   "cell_type": "code",
   "execution_count": 14,
   "metadata": {},
   "outputs": [
    {
     "data": {
      "text/latex": [
       "$\\displaystyle \\frac{\\frac{3}{x}}{y}$"
      ],
      "text/plain": [
       "<IPython.core.display.Math object>"
      ]
     },
     "metadata": {},
     "output_type": "display_data"
    },
    {
     "data": {
      "text/latex": [
       "$\\displaystyle \\frac{\\frac{3}{x}}{y}$"
      ],
      "text/plain": [
       "<IPython.core.display.Math object>"
      ]
     },
     "execution_count": 14,
     "metadata": {},
     "output_type": "execute_result"
    }
   ],
   "source": [
    "x,y = sym.symbols('x,y')\n",
    "\n",
    "expr = 3/x\n",
    "\n",
    "#difficult to read\n",
    "# {} = f-string\n",
    "# {} = latex\n",
    "# {} = variable\n",
    "display(Math(f'\\\\frac{{{sym.latex(expr)}}}{{{y}}}'))\n",
    "\n",
    "#easier to read\n",
    "Math('\\\\frac{%s}{%s}' %(sym.latex(expr),y))"
   ]
  }
 ],
 "metadata": {
  "kernelspec": {
   "display_name": "base",
   "language": "python",
   "name": "python3"
  },
  "language_info": {
   "codemirror_mode": {
    "name": "ipython",
    "version": 3
   },
   "file_extension": ".py",
   "mimetype": "text/x-python",
   "name": "python",
   "nbconvert_exporter": "python",
   "pygments_lexer": "ipython3",
   "version": "3.11.3"
  },
  "orig_nbformat": 4
 },
 "nbformat": 4,
 "nbformat_minor": 2
}
