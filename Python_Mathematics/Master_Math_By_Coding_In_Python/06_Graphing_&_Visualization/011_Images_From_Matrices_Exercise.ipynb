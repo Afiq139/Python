{
 "cells": [
  {
   "cell_type": "markdown",
   "metadata": {},
   "source": [
    "# 011 Images from Matrices Exercise"
   ]
  },
  {
   "cell_type": "code",
   "execution_count": 1,
   "metadata": {},
   "outputs": [],
   "source": [
    "import numpy as np\n",
    "import matplotlib.pyplot as plt"
   ]
  },
  {
   "cell_type": "code",
   "execution_count": 2,
   "metadata": {},
   "outputs": [
    {
     "data": {
      "image/png": "[encoded data removed]",
      "text/plain": [
       "<Figure size 640x480 with 1 Axes>"
      ]
     },
     "metadata": {},
     "output_type": "display_data"
    },
    {
     "name": "stdout",
     "output_type": "stream",
     "text": [
      "[[ 1. -1.  1. -1.  1. -1.  1. -1.  1. -1.]\n",
      " [-1.  1. -1.  1. -1.  1. -1.  1. -1.  1.]\n",
      " [ 1. -1.  1. -1.  1. -1.  1. -1.  1. -1.]\n",
      " [-1.  1. -1.  1. -1.  1. -1.  1. -1.  1.]\n",
      " [ 1. -1.  1. -1.  1. -1.  1. -1.  1. -1.]\n",
      " [-1.  1. -1.  1. -1.  1. -1.  1. -1.  1.]\n",
      " [ 1. -1.  1. -1.  1. -1.  1. -1.  1. -1.]\n",
      " [-1.  1. -1.  1. -1.  1. -1.  1. -1.  1.]\n",
      " [ 1. -1.  1. -1.  1. -1.  1. -1.  1. -1.]\n",
      " [-1.  1. -1.  1. -1.  1. -1.  1. -1.  1.]]\n"
     ]
    }
   ],
   "source": [
    "# soft-coding\n",
    "N = 10\n",
    "\n",
    "c = np.zeros((N,N))\n",
    "\n",
    "for i in range(0,N):\n",
    "    for j in range(0,N):\n",
    "        c[i,j] = (-1)**(i+j) # PEMDAS\n",
    "\n",
    "plt.imshow(c)\n",
    "plt.set_cmap('gray')\n",
    "plt.tick_params(labelleft=False, labelbottom=False)\n",
    "plt.show()\n",
    "print(c)"
   ]
  }
 ],
 "metadata": {
  "kernelspec": {
   "display_name": "base",
   "language": "python",
   "name": "python3"
  },
  "language_info": {
   "codemirror_mode": {
    "name": "ipython",
    "version": 3
   },
   "file_extension": ".py",
   "mimetype": "text/x-python",
   "name": "python",
   "nbconvert_exporter": "python",
   "pygments_lexer": "ipython3",
   "version": "3.11.3"
  },
  "orig_nbformat": 4
 },
 "nbformat": 4,
 "nbformat_minor": 2
}
