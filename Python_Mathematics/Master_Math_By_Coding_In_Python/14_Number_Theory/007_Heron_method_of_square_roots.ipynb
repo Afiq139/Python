{
 "cells": [
  {
   "cell_type": "markdown",
   "metadata": {},
   "source": [
    "# 007 Heron's Method of Square roots"
   ]
  },
  {
   "cell_type": "code",
   "execution_count": 52,
   "metadata": {},
   "outputs": [],
   "source": [
    "import numpy as np\n",
    "import matplotlib.pyplot as plt"
   ]
  },
  {
   "cell_type": "code",
   "execution_count": 53,
   "metadata": {},
   "outputs": [
    {
     "name": "stdout",
     "output_type": "stream",
     "text": [
      "33.333333333333336\n",
      "18.166666666666668\n",
      "11.835626911314986\n",
      "10.142346754539993\n",
      "10.000998910755985\n"
     ]
    },
    {
     "data": {
      "text/plain": [
       "10.000000049886152"
      ]
     },
     "execution_count": 53,
     "metadata": {},
     "output_type": "execute_result"
    }
   ],
   "source": [
    "Y = 100\n",
    "x = Y/3\n",
    "for n in range(5):\n",
    "    print(x)\n",
    "    x = ( x+Y/x )/2\n",
    "\n",
    "x"
   ]
  },
  {
   "cell_type": "code",
   "execution_count": 54,
   "metadata": {},
   "outputs": [],
   "source": [
    "# nums2sqrt = np.linspace(2,101,50)\n",
    "# niterations = np.arange(3,9)\n",
    "\n",
    "# err = np.zeros((len(niterations), len(nums2sqrt)))\n",
    "\n",
    "# #Loop over numbers to square root\n",
    "# for ni, num in enumerate(nums2sqrt):\n",
    "\n",
    "#     #set the number to compute sqrt of\n",
    "#     Y = num\n",
    "\n",
    "#     #Loop over the number of iterations\n",
    "#     for ii, iters in enumerate(niterations):\n",
    "\n",
    "#         #Heron's algorithm\n",
    "#         x = Y/3 #initial guess\n",
    "#         for n in range(iters):\n",
    "#              x = ( x+Y/x )/2\n",
    "        \n",
    "#         #get the error\n",
    "#         err[ii,ni] = x-np.sqrt(Y)\n",
    "\n"
   ]
  },
  {
   "cell_type": "code",
   "execution_count": 55,
   "metadata": {},
   "outputs": [],
   "source": [
    "# plt.imshow(-np.log(err), aspect=10, extent=[nums2sqrt[0],nums2sqrt[-1], niterations[-1], niterations[0]])\n",
    "# plt.show()"
   ]
  },
  {
   "cell_type": "code",
   "execution_count": 56,
   "metadata": {},
   "outputs": [],
   "source": [
    "# define the numbers to compute\n",
    "nums2sqrt = np.linspace(2,101,50)\n",
    "\n",
    "# range of algorithm iterations\n",
    "niterations = np.arange(3,9)\n",
    "\n",
    "\n",
    "# initialize matrix of estimates\n",
    "err = np.zeros((len(niterations),len(nums2sqrt)))\n",
    "\n",
    "\n",
    "# loop over the numbers to compute\n",
    "for ni,num in enumerate(nums2sqrt):\n",
    "  \n",
    "    # loop over number of iterations\n",
    "    for ii,iters in enumerate(niterations):\n",
    "  \n",
    "        # initial guess\n",
    "        x = num/3\n",
    "      \n",
    "        # implement algorithm\n",
    "        for n in range(iters):\n",
    "            x = ( x + num/x )/2\n",
    "      \n",
    "        # store error magnitude\n",
    "        err[ii,ni] = abs(x-np.sqrt(num))"
   ]
  },
  {
   "cell_type": "code",
   "execution_count": 57,
   "metadata": {},
   "outputs": [
    {
     "name": "stderr",
     "output_type": "stream",
     "text": [
      "C:\\Users\\USER\\AppData\\Local\\Temp\\ipykernel_12596\\857211076.py:1: RuntimeWarning: divide by zero encountered in log\n",
      "  plt.imshow(-np.log(err),aspect=10,extent=[nums2sqrt[0],nums2sqrt[-1],niterations[-1],niterations[0]])\n"
     ]
    },
    {
     "data": {
      "image/png": "[encoded data removed]",
      "text/plain": [
       "<Figure size 640x480 with 1 Axes>"
      ]
     },
     "metadata": {},
     "output_type": "display_data"
    }
   ],
   "source": [
    "plt.imshow(-np.log(err),aspect=10,extent=[nums2sqrt[0],nums2sqrt[-1],niterations[-1],niterations[0]])\n",
    "plt.xlabel('Number')\n",
    "plt.ylabel('Iterations')\n",
    "plt.title('-log(error)')\n",
    "plt.show()"
   ]
  }
 ],
 "metadata": {
  "kernelspec": {
   "display_name": "base",
   "language": "python",
   "name": "python3"
  },
  "language_info": {
   "codemirror_mode": {
    "name": "ipython",
    "version": 3
   },
   "file_extension": ".py",
   "mimetype": "text/x-python",
   "name": "python",
   "nbconvert_exporter": "python",
   "pygments_lexer": "ipython3",
   "version": "3.11.3"
  }
 },
 "nbformat": 4,
 "nbformat_minor": 2
}
