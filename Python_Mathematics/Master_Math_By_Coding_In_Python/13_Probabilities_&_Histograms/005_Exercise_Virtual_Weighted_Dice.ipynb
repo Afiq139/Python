{
 "cells": [
  {
   "cell_type": "markdown",
   "metadata": {},
   "source": [
    "# 005 Exercise Virtual Weighted Dice"
   ]
  },
  {
   "cell_type": "code",
   "execution_count": null,
   "metadata": {},
   "outputs": [],
   "source": []
  }
 ],
 "metadata": {
  "language_info": {
   "name": "python"
  }
 },
 "nbformat": 4,
 "nbformat_minor": 2
}
