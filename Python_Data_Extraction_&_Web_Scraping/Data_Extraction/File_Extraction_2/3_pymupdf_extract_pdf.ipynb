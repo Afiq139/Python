{
 "cells": [
  {
   "cell_type": "code",
   "execution_count": 1,
   "metadata": {},
   "outputs": [],
   "source": [
    "# pip install pymupdf\n",
    "import fitz"
   ]
  },
  {
   "cell_type": "code",
   "execution_count": 2,
   "metadata": {},
   "outputs": [
    {
     "name": "stdout",
     "output_type": "stream",
     "text": [
      "36\n"
     ]
    }
   ],
   "source": [
    "doc = fitz.open('2023.pdf')\n",
    "print(doc.page_count)"
   ]
  },
  {
   "cell_type": "code",
   "execution_count": 3,
   "metadata": {},
   "outputs": [
    {
     "name": "stdout",
     "output_type": "stream",
     "text": [
      "{'format': 'PDF 1.7', 'title': 'bas_cc_23a', 'author': '', 'subject': '', 'keywords': '', 'creator': 'Adobe InDesign CS6 (Windows)', 'producer': 'Adobe PDF Library 10.0.1', 'creationDate': \"D:20230620103429+09'00'\", 'modDate': \"D:20230707172407+09'00'\", 'trapped': '', 'encryption': 'Standard V5 R6 256-bit AES'}\n"
     ]
    }
   ],
   "source": [
    "print(doc.metadata)"
   ]
  },
  {
   "cell_type": "code",
   "execution_count": 4,
   "metadata": {},
   "outputs": [
    {
     "name": "stdout",
     "output_type": "stream",
     "text": [
      "9\n",
      "CGクリエイター検定\n",
      "ｄ． ポリゴンを用いてサイコロの形状をモデリングするために図５〈1〉の立方体状のオブジェ\n",
      "クトと，〈2〉の1～3の各面の目に当たる複数の球体を用意して，〈3〉のように配置した．\n",
      "集合演算によって目的の〈4〉のサイコロの形状を作成するために行う演算方法はどれか．\n",
      " \n",
      " \n",
      " \n",
      "〈1〉 \n",
      "〈2〉\n",
      " \n",
      " \n",
      " \n",
      "〈3〉 \n",
      "〈4〉\n",
      "図５\n",
      "【解答群】\n",
      "ア．和の演算 \n",
      "イ．差の演算 \n",
      "ウ．積の演算 \n",
      "エ．商の演算\n",
      "\n"
     ]
    }
   ],
   "source": [
    "page = doc.load_page(10)\n",
    "print(page.get_text())"
   ]
  },
  {
   "cell_type": "markdown",
   "metadata": {},
   "source": [
    "convert to image"
   ]
  },
  {
   "cell_type": "code",
   "execution_count": 5,
   "metadata": {},
   "outputs": [],
   "source": [
    "pix = page.get_pixmap()\n",
    "pix.save(f\"page_{page.number}.png\")"
   ]
  },
  {
   "cell_type": "markdown",
   "metadata": {},
   "source": [
    "grab links"
   ]
  },
  {
   "cell_type": "code",
   "execution_count": 6,
   "metadata": {},
   "outputs": [
    {
     "name": "stdout",
     "output_type": "stream",
     "text": [
      "[]\n"
     ]
    }
   ],
   "source": [
    "links = page.get_links()\n",
    "print(links)"
   ]
  }
 ],
 "metadata": {
  "kernelspec": {
   "display_name": "Python 3",
   "language": "python",
   "name": "python3"
  },
  "language_info": {
   "codemirror_mode": {
    "name": "ipython",
    "version": 3
   },
   "file_extension": ".py",
   "mimetype": "text/x-python",
   "name": "python",
   "nbconvert_exporter": "python",
   "pygments_lexer": "ipython3",
   "version": "3.11.3"
  },
  "orig_nbformat": 4
 },
 "nbformat": 4,
 "nbformat_minor": 2
}
