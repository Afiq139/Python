{
 "cells": [
  {
   "cell_type": "code",
   "execution_count": 47,
   "metadata": {},
   "outputs": [],
   "source": [
    "# pip install pypdf\n",
    "from pypdf import PdfReader"
   ]
  },
  {
   "cell_type": "code",
   "execution_count": 48,
   "metadata": {},
   "outputs": [
    {
     "name": "stdout",
     "output_type": "stream",
     "text": [
      "36\n"
     ]
    }
   ],
   "source": [
    "reader = PdfReader('2023.pdf')\n",
    "print(len(reader.pages))\n",
    "page = reader.pages[34]"
   ]
  },
  {
   "cell_type": "code",
   "execution_count": 49,
   "metadata": {},
   "outputs": [
    {
     "name": "stdout",
     "output_type": "stream",
     "text": [
      "33\n",
      "CGクリエイター検定ｃ． ラスタ形式の画像は， 格子状に並んだ画素で構成されているため， 斜めの線や曲線では，\n",
      "図３のようなジャギーが生じることがある． 図４のように， ジャギーを低減させる処理を\n",
      "何とよぶか．\n",
      " \n",
      "  \n",
      " 図３ 図４\n",
      "【解答群】\n",
      "ア．アンチエイリアシング  イ．クリッピング\n",
      "ウ．レベル補正  エ．アンカーポイント\n",
      "ｄ． 横320画素#縦240画素のディジタル画像の各画素に， RGB各色 8ビットを割り当て，画像\n",
      "を圧縮せずに保存するとき，ファイルサイズは何バイトになるか．なお， 1バイトは 8ビッ\n",
      "トである．\n",
      "【解答群】\n",
      "ア．約 8万バイト  イ．約 23万バイト\n",
      "ウ．約 46万バイト  エ．約 122万バイト\n",
      "CGクリエイター検定の受験者は， 第１問 〈共通問題〉 と第２問～第10問までを\n",
      "解 答 し ，試 験 を 終 え る 際 は ，第１問 〈共通問題〉 を解答したか， 必ず確認すること．注意事項\n"
     ]
    }
   ],
   "source": [
    "print(page.extract_text())  # 1 page"
   ]
  },
  {
   "cell_type": "markdown",
   "metadata": {},
   "source": [
    "for pages"
   ]
  },
  {
   "cell_type": "code",
   "execution_count": 50,
   "metadata": {},
   "outputs": [],
   "source": [
    "# for i in range(len(reader.pages)): \n",
    "#       page = reader.pages[i]\n",
    "#       print(page.extract_text())"
   ]
  },
  {
   "cell_type": "markdown",
   "metadata": {},
   "source": [
    "for images"
   ]
  },
  {
   "cell_type": "code",
   "execution_count": 51,
   "metadata": {},
   "outputs": [],
   "source": [
    "for i in page.images:\n",
    "   with open(i.name, 'wb') as f:\n",
    "       f.write(i.data)"
   ]
  }
 ],
 "metadata": {
  "kernelspec": {
   "display_name": "Python 3",
   "language": "python",
   "name": "python3"
  },
  "language_info": {
   "codemirror_mode": {
    "name": "ipython",
    "version": 3
   },
   "file_extension": ".py",
   "mimetype": "text/x-python",
   "name": "python",
   "nbconvert_exporter": "python",
   "pygments_lexer": "ipython3",
   "version": "3.11.3"
  },
  "orig_nbformat": 4
 },
 "nbformat": 4,
 "nbformat_minor": 2
}
