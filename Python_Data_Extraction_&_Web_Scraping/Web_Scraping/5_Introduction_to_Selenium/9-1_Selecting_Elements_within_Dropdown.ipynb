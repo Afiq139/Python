{
 "cells": [
  {
   "cell_type": "markdown",
   "metadata": {},
   "source": [
    "# Selecting Elements within a Dropdown"
   ]
  },
  {
   "cell_type": "code",
   "execution_count": null,
   "metadata": {},
   "outputs": [],
   "source": [
    "from selenium import webdriver\n",
    "from selenium.webdriver.common.by import By\n",
    "import pandas as pd\n",
    "\n",
    "driver = webdriver.Chrome()\n",
    "website = 'https://www.adamchoi.co.uk/overs/detailed'\n",
    "driver.get(website)"
   ]
  },
  {
   "cell_type": "code",
   "execution_count": null,
   "metadata": {},
   "outputs": [],
   "source": [
    "all_matches_button = driver.find_element(By.XPATH, '//label[@analytics-event=\"All matches\"]')\n",
    "\n",
    "all_matches_button.click()"
   ]
  },
  {
   "cell_type": "code",
   "execution_count": null,
   "metadata": {},
   "outputs": [],
   "source": [
    "matches = driver.find_elements(By.TAG_NAME, 'tr')\n",
    "\n",
    "date = []\n",
    "home_team = []\n",
    "score = []\n",
    "away_team = []\n",
    "\n",
    "for match in matches:\n",
    "    date.append(match.find_element(By.XPATH, './td[1]' ).text)\n",
    "\n",
    "    home = match.find_element(By.XPATH, './td[2]' ).text\n",
    "    home_team.append(home)\n",
    "    print(home)\n",
    "\n",
    "    score.append(match.find_element(By.XPATH, './td[3]' ).text)\n",
    "    away_team.append(match.find_element(By.XPATH, './td[4]' ).text)"
   ]
  },
  {
   "cell_type": "code",
   "execution_count": null,
   "metadata": {},
   "outputs": [],
   "source": [
    "df = pd.DataFrame({'date':date, 'home_team': home_team, 'score':score, 'away_team': away_team})\n",
    "df.to_csv('9-1_football_data.csv', index=False)\n",
    "print(df)"
   ]
  }
 ],
 "metadata": {
  "language_info": {
   "name": "python"
  }
 },
 "nbformat": 4,
 "nbformat_minor": 2
}
