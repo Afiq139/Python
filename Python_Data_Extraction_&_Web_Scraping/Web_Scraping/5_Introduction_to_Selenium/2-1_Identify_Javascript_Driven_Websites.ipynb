{
 "cells": [
  {
   "cell_type": "markdown",
   "metadata": {},
   "source": [
    "# Identify javascript Driven Websites"
   ]
  },
  {
   "cell_type": "markdown",
   "metadata": {},
   "source": [
    "- inspect website\n",
    "- setting option\n",
    "- preference tab\n",
    "- Debugger Section - Disable Javascript, then reload"
   ]
  }
 ],
 "metadata": {
  "language_info": {
   "name": "python"
  }
 },
 "nbformat": 4,
 "nbformat_minor": 2
}
