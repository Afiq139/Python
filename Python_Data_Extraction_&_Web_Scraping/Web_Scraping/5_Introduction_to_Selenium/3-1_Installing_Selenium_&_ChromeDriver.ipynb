{
 "cells": [
  {
   "cell_type": "markdown",
   "metadata": {},
   "source": [
    "# Installing Selenium & ChromeDriver"
   ]
  },
  {
   "cell_type": "markdown",
   "metadata": {},
   "source": [
    "link - Chromedriver.chromium.org/downloads\n",
    "[check compatiblity: go to chrome and check about ]"
   ]
  },
  {
   "cell_type": "markdown",
   "metadata": {},
   "source": [
    "then pip install selenium"
   ]
  }
 ],
 "metadata": {
  "language_info": {
   "name": "python"
  }
 },
 "nbformat": 4,
 "nbformat_minor": 2
}
