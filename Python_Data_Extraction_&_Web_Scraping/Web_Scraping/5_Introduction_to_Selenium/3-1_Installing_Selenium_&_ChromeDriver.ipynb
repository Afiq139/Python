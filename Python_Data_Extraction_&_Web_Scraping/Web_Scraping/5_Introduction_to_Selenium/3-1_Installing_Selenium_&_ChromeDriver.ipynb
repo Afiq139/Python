{
 "cells": [
  {
   "cell_type": "markdown",
   "metadata": {},
   "source": [
    "# Installing Selenium & ChromeDriver"
   ]
  },
  {
   "cell_type": "markdown",
   "metadata": {},
   "source": [
    "link - Chromedriver.chromium.org/downloads\n",
    "[check compatiblity: go to chrome and check about ]"
   ]
  }
 ],
 "metadata": {
  "language_info": {
   "name": "python"
  }
 },
 "nbformat": 4,
 "nbformat_minor": 2
}
