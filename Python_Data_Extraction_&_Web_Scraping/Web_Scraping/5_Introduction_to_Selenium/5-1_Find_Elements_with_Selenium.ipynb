{
 "cells": [
  {
   "cell_type": "markdown",
   "metadata": {},
   "source": [
    "# How to Find Elements with Selenium (Theory)"
   ]
  },
  {
   "cell_type": "markdown",
   "metadata": {},
   "source": [
    "- driver.find_element_by_id('id')\n",
    "- driver.find_element_by_class_name('class_name')\n",
    "- driver.find_element_by_tag_name('tag')\n",
    "- driver.find_element_by_xpath('//tag[@AttributeName = \"Value\"])"
   ]
  },
  {
   "cell_type": "markdown",
   "metadata": {},
   "source": [
    "html code example\n",
    "<article class=\"main-article\">\n",
    "<h1> Titanic (1997) </h1>\n",
    "<p class=\"plot\"> 84 years later ... </p>\n",
    "<div class=\"full-script\"> 13 meters. You ...</div>\n",
    "</article>"
   ]
  },
  {
   "cell_type": "code",
   "execution_count": 7,
   "metadata": {},
   "outputs": [],
   "source": [
    "from selenium import webdriver\n",
    "driver = webdriver.Chrome()"
   ]
  },
  {
   "cell_type": "code",
   "execution_count": 8,
   "metadata": {},
   "outputs": [],
   "source": [
    "# driver.find_element_by_class_name('main-article')\n",
    "# driver.find_element_by_class_name('plot')\n",
    "# driver.find_element_by_class_name('full-script')"
   ]
  },
  {
   "cell_type": "code",
   "execution_count": 9,
   "metadata": {},
   "outputs": [],
   "source": [
    "# driver.find_element_by_tag_name('h1')\n",
    "# driver.find_element_by_tag_name('p')\n",
    "# driver.find_element_by_tag_name('div')"
   ]
  }
 ],
 "metadata": {
  "kernelspec": {
   "display_name": "Python 3",
   "language": "python",
   "name": "python3"
  },
  "language_info": {
   "codemirror_mode": {
    "name": "ipython",
    "version": 3
   },
   "file_extension": ".py",
   "mimetype": "text/x-python",
   "name": "python",
   "nbconvert_exporter": "python",
   "pygments_lexer": "ipython3",
   "version": "3.11.3"
  }
 },
 "nbformat": 4,
 "nbformat_minor": 2
}
