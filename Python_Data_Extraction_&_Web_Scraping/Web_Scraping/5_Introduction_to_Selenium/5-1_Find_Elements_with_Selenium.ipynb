{
 "cells": [
  {
   "cell_type": "markdown",
   "metadata": {},
   "source": [
    "# How to Find Elements with Selenium (Theory)"
   ]
  },
  {
   "cell_type": "markdown",
   "metadata": {},
   "source": [
    "- driver.find_element_by_id('id')\n",
    "- driver.find_element_by_class_name('class_name')"
   ]
  },
  {
   "cell_type": "code",
   "execution_count": null,
   "metadata": {
    "vscode": {
     "languageId": "html"
    }
   },
   "outputs": [],
   "source": [
    "html code example\n",
    "<article class=\"main-article\">\n",
    "<h1> Titanic (1997) </h1>\n",
    "<p class=\"plot\"> 84 years later ... </p>\n",
    "<div class=\"full-script\"> 13 meters. You ...</div>\n",
    "</article>"
   ]
  },
  {
   "cell_type": "code",
   "execution_count": null,
   "metadata": {},
   "outputs": [],
   "source": []
  }
 ],
 "metadata": {
  "language_info": {
   "name": "python"
  }
 },
 "nbformat": 4,
 "nbformat_minor": 2
}
