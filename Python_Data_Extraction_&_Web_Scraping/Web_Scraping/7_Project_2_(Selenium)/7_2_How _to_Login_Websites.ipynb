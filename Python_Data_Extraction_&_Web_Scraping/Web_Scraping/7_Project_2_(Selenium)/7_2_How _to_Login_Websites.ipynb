{
 "cells": [
  {
   "cell_type": "code",
   "execution_count": 9,
   "metadata": {},
   "outputs": [],
   "source": [
    "from selenium import webdriver\n",
    "from selenium.webdriver.common.by import By\n",
    "# from selenium.webdriver.support.ui import Select\n",
    "# import pandas as pd\n",
    "import time\n",
    "\n",
    "driver = webdriver.Chrome()\n",
    "web = 'https://twitter.com/'\n",
    "driver.get(web)\n",
    "# driver.maximize_window()"
   ]
  },
  {
   "cell_type": "code",
   "execution_count": 10,
   "metadata": {},
   "outputs": [],
   "source": [
    "# locating and clicking the login button\n",
    "# login = driver.find_element(By.XPATH, '//a[@href=\"/login\"]')\n",
    "# login.click()\n",
    "# time.sleep(2)\n",
    "\n",
    "# # getting the login box that contains the username and password\n",
    "# login_box = driver.find_element_by_xpath('//form[@action=\"/sessions\"]')\n",
    "\n",
    "# # locating username and password inputs\n",
    "# username = login_box.find_element_by_xpath('.//input[@name=\"session[username_or_email]\"]')\n",
    "# password = login_box.find_element_by_xpath('.//input[@name=\"session[password]\"]')\n",
    "\n",
    "# # sending text to the inputs\n",
    "# username.send_keys(\"Write Email Here\")\n",
    "# password.send_keys(\"Write Password Here\")\n",
    "# # username.send_keys(os.environ.get(\"TWITTER_USER\"))\n",
    "# # password.send_keys(os.environ.get(\"TWITTER_PASS\"))\n",
    "\n",
    "# # locating login button and then clicking on it\n",
    "# login_button = driver.find_element_by_xpath('//div[@role=\"button\"]')\n",
    "# login_button.click()\n",
    "\n",
    "# # closing driver\n",
    "# # driver.quit()\n"
   ]
  }
 ],
 "metadata": {
  "kernelspec": {
   "display_name": "Python 3",
   "language": "python",
   "name": "python3"
  },
  "language_info": {
   "codemirror_mode": {
    "name": "ipython",
    "version": 3
   },
   "file_extension": ".py",
   "mimetype": "text/x-python",
   "name": "python",
   "nbconvert_exporter": "python",
   "pygments_lexer": "ipython3",
   "version": "3.11.3"
  }
 },
 "nbformat": 4,
 "nbformat_minor": 2
}
