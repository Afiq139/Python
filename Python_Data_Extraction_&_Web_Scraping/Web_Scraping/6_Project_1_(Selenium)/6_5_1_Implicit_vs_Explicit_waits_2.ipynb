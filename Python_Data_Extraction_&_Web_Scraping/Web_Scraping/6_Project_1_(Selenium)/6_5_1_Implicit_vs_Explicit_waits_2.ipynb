{
 "cells": [
  {
   "cell_type": "markdown",
   "metadata": {},
   "source": [
    "# Project #1 Dealing with Multiple Pages using Selenium (Implicit vs Explicit)"
   ]
  },
  {
   "cell_type": "code",
   "execution_count": 1,
   "metadata": {},
   "outputs": [],
   "source": [
    "from selenium import webdriver\n",
    "from selenium.webdriver.common.by import By\n",
    "from selenium.webdriver.chrome.options import Options\n",
    "from selenium.webdriver.support.ui import WebDriverWait\n",
    "from selenium.webdriver.support import expected_conditions as EC\n",
    "import pandas as pd\n",
    "import time\n",
    "\n",
    "options = Options()\n",
    "options.headless = False  #headless mode activated\n",
    "#options.add_argument(\"--headless=new\")  #small screen, less data. Bigger screen, more data\n",
    "\n",
    "driver = webdriver.Chrome(options=options)\n",
    "web = 'https://www.audible.com/adblbestsellers?ref_pageloadid=not_applicable&ref=a_search_t1_navTop_pl0cg1c0r0&pf_rd_p=6fb0ac98-e9fb-4acd-8278-aa237978ed3e&pf_rd_r=NCJ5CTZRYP42WJZXR010&pageLoadId=KQFN4C3hYOhbqqEG&ref_plink=not_applicable&creativeId=1642b4d1-12f3-4375-98fa-4938afc1cedc'\n",
    "driver.get(web)\n",
    "# driver.maximize_window()"
   ]
  },
  {
   "cell_type": "code",
   "execution_count": 2,
   "metadata": {},
   "outputs": [],
   "source": [
    "#pagination\n",
    "pagination = driver.find_element(By.XPATH, '//ul[contains(@class, \"pagingElements\")]')\n",
    "pages = pagination.find_elements(By.TAG_NAME, 'li')\n",
    "last_page = int(pages[-2].text)\n",
    "\n",
    "current_page = 1\n",
    "\n",
    "book_title = []\n",
    "book_author = []\n",
    "book_length = []\n",
    "\n",
    "while current_page <= last_page:\n",
    "    # time.sleep(2) # stop for 2 seconds - implicit waits\n",
    "\n",
    "    #Explicit Waits\n",
    "    container = WebDriverWait(driver,5).until(EC.presence_of_element_located(By.CLASS_NAME,'adbl-impression-container'))\n",
    "    # container = driver.find_element(By.CLASS_NAME, 'adbl-impression-container')\n",
    "\n",
    "\n",
    "    products = WebDriverWait(container,5).until(EC.presence_of_all_elements_located(By.XPATH,'.//li[contains(@class, \"productListItem\")]'))\n",
    "    # products = container.find_elements(By.XPATH, './/li[contains(@class, \"productListItem\")]')\n",
    "\n",
    "    for product in products:\n",
    "        book_title.append(product.find_element(By.XPATH, './/h3[contains(@class, \"bc-heading\")]').text)\n",
    "        book_author.append(product.find_element(By.XPATH, './/li[contains(@class, \"authorLabel\")]').text)\n",
    "        book_length.append(product.find_element(By.XPATH, './/li[contains(@class, \"runtimeLabel\")]').text)\n",
    "\n",
    "    current_page = current_page + 1\n",
    "\n",
    "    try:\n",
    "        next_page = driver.find_element(By.XPATH, '//span[contains(@class, \"nextButton\")]')\n",
    "        next_page.click()\n",
    "    \n",
    "    except:\n",
    "        pass"
   ]
  },
  {
   "cell_type": "code",
   "execution_count": 3,
   "metadata": {},
   "outputs": [],
   "source": [
    "df_books= pd.DataFrame({'title': book_title, 'author': book_author, 'length':book_length})\n",
    "df_books.to_csv('6_5-1_Implicit_Explicit.csv', index=False)"
   ]
  }
 ],
 "metadata": {
  "kernelspec": {
   "display_name": "Python 3",
   "language": "python",
   "name": "python3"
  },
  "language_info": {
   "codemirror_mode": {
    "name": "ipython",
    "version": 3
   },
   "file_extension": ".py",
   "mimetype": "text/x-python",
   "name": "python",
   "nbconvert_exporter": "python",
   "pygments_lexer": "ipython3",
   "version": "3.11.3"
  }
 },
 "nbformat": 4,
 "nbformat_minor": 2
}
