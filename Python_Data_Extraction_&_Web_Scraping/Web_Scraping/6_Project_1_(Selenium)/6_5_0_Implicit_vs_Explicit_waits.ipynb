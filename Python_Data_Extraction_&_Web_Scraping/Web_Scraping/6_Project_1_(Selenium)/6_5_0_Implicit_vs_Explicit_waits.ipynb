{
 "cells": [
  {
   "cell_type": "markdown",
   "metadata": {},
   "source": [
    "# Project #1 Dealing with Multiple Pages using Selenium (Implicit vs Explicit Waits)"
   ]
  },
  {
   "cell_type": "code",
   "execution_count": null,
   "metadata": {},
   "outputs": [],
   "source": []
  }
 ],
 "metadata": {
  "language_info": {
   "name": "python"
  }
 },
 "nbformat": 4,
 "nbformat_minor": 2
}
