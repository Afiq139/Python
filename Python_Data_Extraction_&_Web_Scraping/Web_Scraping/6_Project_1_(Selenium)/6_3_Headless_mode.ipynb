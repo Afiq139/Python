{
 "cells": [
  {
   "cell_type": "markdown",
   "metadata": {},
   "source": [
    "# Project #1 Dealing with Multiple Pages using Selenium (Headless Mode)"
   ]
  },
  {
   "cell_type": "code",
   "execution_count": 4,
   "metadata": {},
   "outputs": [],
   "source": [
    "from selenium import webdriver\n",
    "from selenium.webdriver.common.by import By\n",
    "from selenium.webdriver.chrome.options import Options\n",
    "# from selenium.webdriver.support.ui import Select\n",
    "import pandas as pd\n",
    "# import time\n",
    "\n",
    "options = Options()\n",
    "options.headless = True  #headless mode activated\n",
    "options.add_argument('window-size=1920x1080')  #small screen, less data. Bigger screen, more data\n",
    "\n",
    "driver = webdriver.Chrome(options=options)\n",
    "web = 'https://www.audible.com/search'\n",
    "driver.get(web)\n",
    "# driver.maximize_window()"
   ]
  },
  {
   "cell_type": "code",
   "execution_count": 5,
   "metadata": {},
   "outputs": [
    {
     "name": "stdout",
     "output_type": "stream",
     "text": [
      "The House of Love and Death\n",
      "Great Awakening\n",
      "The Proof of the Pudding\n",
      "Red Sky Mourning\n",
      "Crystal World\n",
      "Mark of the Fool 4\n",
      "Exploring Home\n",
      "The Wuhan Cover-Up\n",
      "Tales from the Gas Station, Volume Four\n",
      "The Titan of Baleros\n",
      "Only in Death\n",
      "A Fire in the Flesh\n",
      "Iron Flame\n",
      "Fire and Song\n",
      "Know What Matters\n",
      "Preceptor\n",
      "House of Flame and Shadow\n",
      "The Great Disappearance\n",
      "Think Twice\n",
      "Fourth Wing (Part 1 of 2) (Dramatized Adaptation)\n"
     ]
    }
   ],
   "source": [
    "container = driver.find_element(By.CLASS_NAME, 'adbl-impression-container')\n",
    "products = container.find_elements(By.XPATH, './/li[contains(@class, \"productListItem\")]')\n",
    "\n",
    "book_title = []\n",
    "book_author = []\n",
    "book_length = []\n",
    "\n",
    "for product in products:\n",
    "    title = product.find_element(By.XPATH, './/h3[contains(@class, \"bc-heading\")]').text\n",
    "    book_title.append(title)\n",
    "    print(title)\n",
    "    book_author.append(product.find_element(By.XPATH, './/li[contains(@class, \"authorLabel\")]').text)\n",
    "    book_length.append(product.find_element(By.XPATH, './/li[contains(@class, \"runtimeLabel\")]').text)\n"
   ]
  },
  {
   "cell_type": "code",
   "execution_count": 6,
   "metadata": {},
   "outputs": [],
   "source": [
    "df_books= pd.DataFrame({'title': book_title, 'author': book_author, 'length':book_length})\n",
    "df_books.to_csv('6_3_books_headless.csv', index=False)"
   ]
  }
 ],
 "metadata": {
  "kernelspec": {
   "display_name": "base",
   "language": "python",
   "name": "python3"
  },
  "language_info": {
   "codemirror_mode": {
    "name": "ipython",
    "version": 3
   },
   "file_extension": ".py",
   "mimetype": "text/x-python",
   "name": "python",
   "nbconvert_exporter": "python",
   "pygments_lexer": "ipython3",
   "version": "3.11.3"
  }
 },
 "nbformat": 4,
 "nbformat_minor": 2
}
