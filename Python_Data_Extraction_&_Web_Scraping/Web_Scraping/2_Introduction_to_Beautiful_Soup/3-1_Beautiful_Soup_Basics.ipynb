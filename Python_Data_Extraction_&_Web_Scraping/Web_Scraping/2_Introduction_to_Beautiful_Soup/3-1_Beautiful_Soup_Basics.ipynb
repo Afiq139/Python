{
 "cells": [
  {
   "cell_type": "markdown",
   "metadata": {},
   "source": [
    "Beautiful soup: Steps before scraping a website\n",
    "\n",
    "1. Fetch the pages (obtained a response object)\n",
    "\n",
    "    result = requests.get(\"www.google.com\")\n",
    "\n",
    "2. Page content\n",
    "\n",
    "    content = result.text\n",
    "\n",
    "3. Create soup\n",
    "\n",
    "    soup = BeautifulSoup(content, \"lxml\")\n"
   ]
  },
  {
   "cell_type": "code",
   "execution_count": null,
   "metadata": {},
   "outputs": [],
   "source": []
  }
 ],
 "metadata": {
  "language_info": {
   "name": "python"
  }
 },
 "nbformat": 4,
 "nbformat_minor": 2
}
