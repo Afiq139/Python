{
 "cells": [
  {
   "cell_type": "markdown",
   "metadata": {},
   "source": [
    "Beautiful soup: Steps before scraping a website\n",
    "_______________________________________________________________________________________________\n",
    "1. Fetch the pages (obtained a response object)\n",
    "\n",
    "    result = requests.get(\"www.google.com\")\n",
    "\n",
    "2. Page content\n",
    "\n",
    "    content = result.text\n",
    "\n",
    "3. Create soup\n",
    "\n",
    "    soup = BeautifulSoup(content, \"lxml\")\n"
   ]
  },
  {
   "cell_type": "markdown",
   "metadata": {},
   "source": [
    "Finding Element with Beautiful Soup\n",
    "___________________________________\n",
    "\n",
    "soup.find(id=\"specific_id\")\n",
    "\n",
    "\n",
    "soup.find('tag',class_=\"class_name\")\n",
    "\n",
    "--> soup.find('article',class_=\"main_article\")\n",
    "\n",
    "--> soup.find('h1')\n",
    "\n",
    "soup.find_all(\"h2\")       //multiple h2 element, will return in list = [a,b,c,d]"
   ]
  }
 ],
 "metadata": {
  "language_info": {
   "name": "python"
  }
 },
 "nbformat": 4,
 "nbformat_minor": 2
}
