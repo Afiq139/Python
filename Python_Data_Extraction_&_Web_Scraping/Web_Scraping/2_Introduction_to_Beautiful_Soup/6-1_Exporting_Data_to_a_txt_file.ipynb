{
 "cells": [
  {
   "cell_type": "code",
   "execution_count": 1,
   "metadata": {},
   "outputs": [],
   "source": [
    "from bs4 import BeautifulSoup\n",
    "import requests"
   ]
  },
  {
   "cell_type": "code",
   "execution_count": 2,
   "metadata": {},
   "outputs": [
    {
     "name": "stdout",
     "output_type": "stream",
     "text": [
      "Titanic (1997) - full transcript\n"
     ]
    }
   ],
   "source": [
    "website = 'https://subslikescript.com/movie/Titanic-120338'\n",
    "result = requests.get(website)  #getting response from the website\n",
    "content = result.text #getting text\n",
    "\n",
    "soup = BeautifulSoup(content, 'lxml')\n",
    "# print(soup.prettify()) #prettify = to make html looks more prettier format\n",
    "\n",
    "box = soup.find('article', class_='main-article')\n",
    "\n",
    "title = box.find('h1').get_text()\n",
    "print(title)"
   ]
  },
  {
   "cell_type": "code",
   "execution_count": 5,
   "metadata": {},
   "outputs": [],
   "source": [
    "transcript = box.find('div', class_='full-script').get_text(strip=True, separator=' ')\n",
    "\n",
    "with open(f'6-1_{title}.txt', 'w') as file:\n",
    "    file.write(transcript)"
   ]
  },
  {
   "cell_type": "code",
   "execution_count": 6,
   "metadata": {},
   "outputs": [],
   "source": [
    "with open(f'6-1_{title}.doc', 'w') as file:\n",
    "    file.write(transcript)"
   ]
  }
 ],
 "metadata": {
  "kernelspec": {
   "display_name": "base",
   "language": "python",
   "name": "python3"
  },
  "language_info": {
   "codemirror_mode": {
    "name": "ipython",
    "version": 3
   },
   "file_extension": ".py",
   "mimetype": "text/x-python",
   "name": "python",
   "nbconvert_exporter": "python",
   "pygments_lexer": "ipython3",
   "version": "3.11.3"
  }
 },
 "nbformat": 4,
 "nbformat_minor": 2
}
