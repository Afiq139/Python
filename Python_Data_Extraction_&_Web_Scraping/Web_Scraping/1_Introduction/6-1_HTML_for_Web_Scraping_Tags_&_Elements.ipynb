{
 "cells": [
  {
   "cell_type": "markdown",
   "metadata": {},
   "source": [
    "# HTML Tags & ELements"
   ]
  },
  {
   "cell_type": "code",
   "execution_count": 4,
   "metadata": {
    "vscode": {
     "languageId": "html"
    }
   },
   "outputs": [],
   "source": [
    "<!-- h1 = Tag name -->\n",
    "<!-- </h1> = End Tag/Closing Tag -->\n",
    "<!-- class=\"title\" = Attribute -->\n",
    "<!-- class = Attribute name -->\n",
    "<!-- \"title\" = Attribute value-->\n",
    "<!-- Titanic (1997) = Affected Content -->\n",
    "\n",
    "<!-- all of this called HTML ELement/Node -->\n",
    "<h1 class = \"title\"> Titanic (1997) </h1>"
   ]
  },
  {
   "cell_type": "markdown",
   "metadata": {},
   "source": [
    "Tags"
   ]
  },
  {
   "cell_type": "code",
   "execution_count": null,
   "metadata": {
    "vscode": {
     "languageId": "html"
    }
   },
   "outputs": [],
   "source": [
    "<head>\n",
    "<body>\n",
    "<header>\n",
    "<article>\n",
    "<p>: Paragraph\n",
    "<h1>, <h2>, <h3>: heading "
   ]
  }
 ],
 "metadata": {
  "kernelspec": {
   "display_name": "base",
   "language": "python",
   "name": "python3"
  },
  "language_info": {
   "codemirror_mode": {
    "name": "ipython",
    "version": 3
   },
   "file_extension": ".py",
   "mimetype": "text/x-python",
   "name": "python",
   "nbconvert_exporter": "python",
   "pygments_lexer": "ipython3",
   "version": "3.11.3"
  }
 },
 "nbformat": 4,
 "nbformat_minor": 2
}
