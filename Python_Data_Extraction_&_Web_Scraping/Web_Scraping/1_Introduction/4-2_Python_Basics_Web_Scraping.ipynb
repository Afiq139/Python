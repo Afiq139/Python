{
 "cells": [
  {
   "cell_type": "code",
   "execution_count": 1,
   "metadata": {},
   "outputs": [
    {
     "name": "stdout",
     "output_type": "stream",
     "text": [
      "1.0\n",
      "2.0\n",
      "3.0\n",
      "The element is not a number!\n"
     ]
    }
   ],
   "source": [
    "#Handling exception errors: Try-except\n",
    "new_list = [2,4,6,'California']\n",
    "\n",
    "for element in new_list:\n",
    "    try:\n",
    "        print(element/2)\n",
    "    except:\n",
    "        print(\"The element is not a number!\")\n",
    "\n"
   ]
  },
  {
   "cell_type": "code",
   "execution_count": 2,
   "metadata": {},
   "outputs": [
    {
     "name": "stdout",
     "output_type": "stream",
     "text": [
      "4\n",
      "3\n",
      "2\n",
      "1\n",
      "Message\n"
     ]
    }
   ],
   "source": [
    "#while-break\n",
    "\n",
    "n = 4\n",
    "while n > 0:\n",
    "    print(n)\n",
    "    n = n -1 \n",
    "\n",
    "print('Message')"
   ]
  }
 ],
 "metadata": {
  "kernelspec": {
   "display_name": "base",
   "language": "python",
   "name": "python3"
  },
  "language_info": {
   "codemirror_mode": {
    "name": "ipython",
    "version": 3
   },
   "file_extension": ".py",
   "mimetype": "text/x-python",
   "name": "python",
   "nbconvert_exporter": "python",
   "pygments_lexer": "ipython3",
   "version": "3.11.3"
  }
 },
 "nbformat": 4,
 "nbformat_minor": 2
}
