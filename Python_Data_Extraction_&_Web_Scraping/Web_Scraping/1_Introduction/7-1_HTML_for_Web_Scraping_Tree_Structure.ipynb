{
 "cells": [
  {
   "cell_type": "markdown",
   "metadata": {},
   "source": [
    "# HTML for Web Scraping Tree Structure"
   ]
  },
  {
   "cell_type": "code",
   "execution_count": null,
   "metadata": {
    "vscode": {
     "languageId": "html"
    }
   },
   "outputs": [],
   "source": [
    "<!-- HTML Code Example-->\n",
    "\n",
    "<article class=\"main-article\">\n",
    "    <h1>Titanic (1997)</h1> <!--Title-->\n",
    "    <p class=\"plot\"> 84 years later ...</p><!--Description-->\n",
    "    <div class=\"full-script\">13 meters. You ...</div><!--Transcript-->\n",
    "</article>"
   ]
  },
  {
   "cell_type": "code",
   "execution_count": null,
   "metadata": {
    "vscode": {
     "languageId": "latex"
    }
   },
   "outputs": [],
   "source": [
    "Root Element (article) [Parent Node]\n",
    "\n",
    " Element (<h1>) [Siblings]--> Text( titanic (1997)) //Title\n",
    "\n",
    " Attribute [Siblings] (class=\"main-article\")\n",
    "\n",
    " Element(<p>) [Siblings] --> Attribute(class=\"plot\") // Description\n",
    "                            --> Text ( titanic (1997)) // Description\n",
    "    \n",
    " Element(<div>) [Siblings] --> Attribute(class=\"full-script\") // Transcript\n",
    "                              --> Text ( 13 meters. You...) // Transcript"
   ]
  },
  {
   "cell_type": "markdown",
   "metadata": {},
   "source": [
    "it's recommended to find elements in this order.\n",
    "1. ID\n",
    "2. Class Name\n",
    "3. Tag name, CSS selector\n",
    "4. Xpath"
   ]
  }
 ],
 "metadata": {
  "language_info": {
   "name": "python"
  }
 },
 "nbformat": 4,
 "nbformat_minor": 2
}
