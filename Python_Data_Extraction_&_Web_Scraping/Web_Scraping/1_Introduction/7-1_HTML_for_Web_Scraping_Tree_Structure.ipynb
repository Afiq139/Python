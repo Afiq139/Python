{
 "cells": [
  {
   "cell_type": "markdown",
   "metadata": {},
   "source": [
    "# HTML for Web Scraping Tree Structure"
   ]
  },
  {
   "cell_type": "code",
   "execution_count": null,
   "metadata": {
    "vscode": {
     "languageId": "html"
    }
   },
   "outputs": [],
   "source": [
    "<!-- HTML Code Example-->\n",
    "\n",
    "<article class=\"main-article\">\n",
    "    <h1>Titanic (1997)</h1>\n",
    "    <p class=\"plot\"> 84 years later ...</p>\n",
    "    <div class=\"full-script\">13 meters. You ...</div>\n",
    "</article>"
   ]
  }
 ],
 "metadata": {
  "language_info": {
   "name": "python"
  }
 },
 "nbformat": 4,
 "nbformat_minor": 2
}
