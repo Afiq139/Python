{
 "cells": [
  {
   "cell_type": "code",
   "execution_count": 14,
   "metadata": {},
   "outputs": [],
   "source": [
    "import pandas as pd"
   ]
  },
  {
   "cell_type": "code",
   "execution_count": 15,
   "metadata": {},
   "outputs": [
    {
     "name": "stdout",
     "output_type": "stream",
     "text": [
      "California\n"
     ]
    }
   ],
   "source": [
    "states = [\"California\", \"Texas\", \"Florida\", \"New York\"]\n",
    "\n",
    "print(states[-4])"
   ]
  },
  {
   "cell_type": "code",
   "execution_count": 16,
   "metadata": {},
   "outputs": [
    {
     "name": "stdout",
     "output_type": "stream",
     "text": [
      "Florida\n"
     ]
    }
   ],
   "source": [
    "for state in states:\n",
    "    if state == \"Florida\":\n",
    "        print(state)"
   ]
  },
  {
   "cell_type": "markdown",
   "metadata": {},
   "source": [
    "Text"
   ]
  },
  {
   "cell_type": "code",
   "execution_count": 17,
   "metadata": {},
   "outputs": [],
   "source": [
    "#with open('filename', 'write/read/pen') as file:\n",
    "# write mode = Deleting existing file content and write new one\n",
    "with open('text.txt', 'w') as file:\n",
    "    file.write(\"Data successfully scraped!\")"
   ]
  },
  {
   "cell_type": "markdown",
   "metadata": {},
   "source": [
    "Microsoft Doc"
   ]
  },
  {
   "cell_type": "code",
   "execution_count": 18,
   "metadata": {},
   "outputs": [],
   "source": [
    "with open('text.doc', 'w') as file:\n",
    "    file.write(\"Data successfully scraped!\")"
   ]
  },
  {
   "cell_type": "markdown",
   "metadata": {},
   "source": [
    "using pandas"
   ]
  },
  {
   "cell_type": "code",
   "execution_count": 19,
   "metadata": {},
   "outputs": [
    {
     "name": "stdout",
     "output_type": "stream",
     "text": [
      "       States  Population\n",
      "0  California    39613493\n",
      "1       Texas    29730311\n",
      "2     Florida    21944577\n",
      "3    New York    19299981\n"
     ]
    }
   ],
   "source": [
    "#using previous list - states\n",
    "population = [39613493, 29730311, 21944577, 19299981]\n",
    "\n",
    "#keys: values\n",
    "dict_states={'States': states, 'Population': population}\n",
    "\n",
    "df_states = pd.DataFrame.from_dict(dict_states)\n",
    "print(df_states)"
   ]
  }
 ],
 "metadata": {
  "kernelspec": {
   "display_name": "base",
   "language": "python",
   "name": "python3"
  },
  "language_info": {
   "codemirror_mode": {
    "name": "ipython",
    "version": 3
   },
   "file_extension": ".py",
   "mimetype": "text/x-python",
   "name": "python",
   "nbconvert_exporter": "python",
   "pygments_lexer": "ipython3",
   "version": "3.11.3"
  }
 },
 "nbformat": 4,
 "nbformat_minor": 2
}
