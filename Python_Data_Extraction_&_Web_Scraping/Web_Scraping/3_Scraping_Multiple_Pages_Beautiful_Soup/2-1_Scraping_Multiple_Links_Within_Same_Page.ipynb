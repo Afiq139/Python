{
 "cells": [
  {
   "cell_type": "code",
   "execution_count": 3,
   "metadata": {},
   "outputs": [],
   "source": [
    "from bs4 import BeautifulSoup\n",
    "import requests\n",
    "\n",
    "#provides a way to interact with the operating system.\n",
    "#enabling you to perform various tasks related to file and directory operations,process management, and more.\n",
    "import os "
   ]
  },
  {
   "cell_type": "code",
   "execution_count": 4,
   "metadata": {},
   "outputs": [],
   "source": [
    "# Define the folder path where you want to save the files\n",
    "folder_path = './transcript_file'\n",
    "\n",
    "# Make sure the folder exists, create it if it doesn't\n",
    "if not os.path.exists(folder_path):\n",
    "    os.makedirs(folder_path)"
   ]
  },
  {
   "cell_type": "code",
   "execution_count": 5,
   "metadata": {},
   "outputs": [
    {
     "name": "stdout",
     "output_type": "stream",
     "text": [
      "['movie/Cascade-12180508', 'movie/Cet_t-l-15783304', 'movie/Ritual-14305564', 'movie/The_Initiated-27726262', 'movie/Blame_It_on_Rio-86973', 'movie/Shakti-84667', 'movie/Neko_wa_Nigeta-22475136', 'movie/The_House_Next_Door_Meet_the_Blacks_2-7524444', 'movie/The_Initiated-98110', 'movie/Arena-101366', 'movie/Red_Meadows-172681', 'movie/Vostochny_koridor-348327', 'movie/Hawa-10928202', 'movie/Skylight-3967356', 'movie/Borrowed-15131152', 'movie/Something_Walks_in_the_Woods-21915352', 'movie/Parental_Guidance-1047540', 'movie/The_Hottest_Summer-23768070', 'movie/A_Man-20251822', 'movie/Homewrecker-27156875', 'movie/A_Royal_Affair-1276419', 'movie/Wyrok_zycia-286318', 'movie/The_Greeks_Had_a_Word_for_Them-22961', 'movie/On_the_Bowery-50800', 'movie/Nobody_Waved_Good-bye-59515', 'movie/Tom_Segura_Sledgehammer-11987416', 'movie/Aum_Mangalam_Singlem-22742720', 'movie/Meeting_People_Is_Easy-195909', 'movie/Lakadbaggha-20319598', 'movie/Horton_Hears_a_Who-451079']\n"
     ]
    }
   ],
   "source": [
    "root = 'https://subslikescript.com'\n",
    "website = f'{root}/movies'\n",
    "result = requests.get(website)  #getting response from the website\n",
    "content = result.text #getting text\n",
    "soup = BeautifulSoup(content, 'lxml')\n",
    "# print(soup.prettify()) #prettify = to make html looks more prettier format\n",
    "\n",
    "box = soup.find('article', class_='main-article')\n",
    "\n",
    "links = []\n",
    "for link in box.find_all('a', href=True):\n",
    "    links.append(link['href'])\n",
    "\n",
    "print(links)\n",
    "\n",
    "for link in links:\n",
    "    website = f'{root}/{link}'\n",
    "    result = requests.get(website)  \n",
    "    content = result.text \n",
    "    soup = BeautifulSoup(content, 'lxml')\n",
    "\n",
    "    box = soup.find('article', class_='main-article')\n",
    "\n",
    "    title = box.find('h1').get_text()\n",
    "    transcript = box.find('div', class_='full-script').get_text(strip=True, separator=' ')\n",
    "\n",
    "    # with open(f'{title}.txt', 'w') as file:\n",
    "    #     file.write(transcript)\n",
    "\n",
    "    # Specify the folder path when opening the file\n",
    "    file_path = os.path.join(folder_path, f'{title}.txt')\n",
    "    \n",
    "    with open(file_path, 'w') as file:\n",
    "        file.write(transcript)\n"
   ]
  }
 ],
 "metadata": {
  "kernelspec": {
   "display_name": "base",
   "language": "python",
   "name": "python3"
  },
  "language_info": {
   "codemirror_mode": {
    "name": "ipython",
    "version": 3
   },
   "file_extension": ".py",
   "mimetype": "text/x-python",
   "name": "python",
   "nbconvert_exporter": "python",
   "pygments_lexer": "ipython3",
   "version": "3.11.3"
  }
 },
 "nbformat": 4,
 "nbformat_minor": 2
}
