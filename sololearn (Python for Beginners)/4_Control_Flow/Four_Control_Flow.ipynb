{
 "cells": [
  {
   "cell_type": "markdown",
   "metadata": {},
   "source": [
    "#### BMI Calculator\n",
    "\n",
    "\n",
    "Tracking your BMI is a useful way of checking if you’re maintaining a healthy weight. It’s calculated using a person's weight and height, using this formula: weight / height²\n",
    "\n",
    "The resulting number indicates one of the following categories:\n",
    "\n",
    "- Underweight = less than 18.5\n",
    "- Normal = more or equal to 18.5 and less than 25\n",
    "- Overweight = more or equal to 25 and less than 30\n",
    "- Obesity = 30 or more\n",
    "\n",
    "Let’s make finding out your BMI quicker and easier, by creating a program that takes a person's weight and height as input and outputs the corresponding BMI category.\n",
    "\n",
    "Sample Input\n",
    "- 85\n",
    "- 1.9\n",
    "\n",
    "Sample Output\n",
    "- Normal\n",
    "\n",
    "Weight is in kg, height is in meters.\n",
    "Note, that height is a float.\n"
   ]
  },
  {
   "cell_type": "code",
   "execution_count": 1,
   "metadata": {},
   "outputs": [
    {
     "name": "stdout",
     "output_type": "stream",
     "text": [
      "Underweight\n"
     ]
    }
   ],
   "source": [
    "weight=float(input())\n",
    "height=float(input())\n",
    "\n",
    "bmi=weight/(height**2)\n",
    "\n",
    "if bmi<18.5:\n",
    "  print('Underweight')\n",
    "elif bmi>=18.5 and bmi<25:\n",
    "  print('Normal')\n",
    "elif bmi>=25 and bmi<30:\n",
    "  print('Overweight')\n",
    "else:\n",
    "  print('Obesity')"
   ]
  }
 ],
 "metadata": {
  "kernelspec": {
   "display_name": "base",
   "language": "python",
   "name": "python3"
  },
  "language_info": {
   "codemirror_mode": {
    "name": "ipython",
    "version": 3
   },
   "file_extension": ".py",
   "mimetype": "text/x-python",
   "name": "python",
   "nbconvert_exporter": "python",
   "pygments_lexer": "ipython3",
   "version": "3.11.3"
  }
 },
 "nbformat": 4,
 "nbformat_minor": 2
}
