{
 "cells": [
  {
   "cell_type": "code",
   "execution_count": 1,
   "metadata": {},
   "outputs": [
    {
     "name": "stdout",
     "output_type": "stream",
     "text": [
      "Underweight\n"
     ]
    }
   ],
   "source": [
    "weight=float(input())\n",
    "height=float(input())\n",
    "\n",
    "bmi=weight/(height**2)\n",
    "\n",
    "if bmi<18.5:\n",
    "  print('Underweight')\n",
    "elif bmi>=18.5 and bmi<25:\n",
    "  print('Normal')\n",
    "elif bmi>=25 and bmi<30:\n",
    "  print('Overweight')\n",
    "else:\n",
    "  print('Obesity')"
   ]
  }
 ],
 "metadata": {
  "kernelspec": {
   "display_name": "base",
   "language": "python",
   "name": "python3"
  },
  "language_info": {
   "codemirror_mode": {
    "name": "ipython",
    "version": 3
   },
   "file_extension": ".py",
   "mimetype": "text/x-python",
   "name": "python",
   "nbconvert_exporter": "python",
   "pygments_lexer": "ipython3",
   "version": "3.11.3"
  }
 },
 "nbformat": 4,
 "nbformat_minor": 2
}
