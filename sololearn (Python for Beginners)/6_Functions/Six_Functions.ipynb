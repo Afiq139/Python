{
 "cells": [
  {
   "cell_type": "markdown",
   "metadata": {},
   "source": [
    "#### Search Engine\n",
    "\n",
    "\n",
    " You’re working on a search engine. Watch your back Google!\n",
    "\n",
    " The given code takes a text and a word as input and passes them to a function called search().\n",
    "\n",
    "The search() function should return \"Word found\" if the word is present in the text, or \"Word not found\", if it’s not.\n",
    "\n",
    " Sample Input\n",
    "\n",
    "\"This is awesome\"\n",
    "\n",
    "\"awesome\"\n",
    "\n",
    "Sample Output\n",
    "\n",
    "Word found\n",
    "\n",
    "\n",
    "Define the search() function, so that the given code works as expected.\n"
   ]
  },
  {
   "cell_type": "code",
   "execution_count": 1,
   "metadata": {},
   "outputs": [
    {
     "name": "stdout",
     "output_type": "stream",
     "text": [
      "Word not found\n"
     ]
    }
   ],
   "source": [
    "text = input()\n",
    "word = input()\n",
    "\n",
    "def search(text,word):\n",
    "    if word in text:\n",
    "      return print(\"Word found\")\n",
    "    else:\n",
    "      return print(\"Word not found\")\n",
    "    \n",
    "  \n",
    "search(text, word)"
   ]
  }
 ],
 "metadata": {
  "kernelspec": {
   "display_name": "base",
   "language": "python",
   "name": "python3"
  },
  "language_info": {
   "codemirror_mode": {
    "name": "ipython",
    "version": 3
   },
   "file_extension": ".py",
   "mimetype": "text/x-python",
   "name": "python",
   "nbconvert_exporter": "python",
   "pygments_lexer": "ipython3",
   "version": "3.11.3"
  }
 },
 "nbformat": 4,
 "nbformat_minor": 2
}
