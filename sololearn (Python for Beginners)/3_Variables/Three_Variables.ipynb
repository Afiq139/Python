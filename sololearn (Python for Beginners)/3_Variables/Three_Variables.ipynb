{
 "cells": [
  {
   "cell_type": "markdown",
   "metadata": {},
   "source": [
    "#### Tip Calculator\n",
    "\n",
    "\n",
    "When you go out to eat, you always tip 20% of the bill amount. But who’s got the time to calculate the right tip amount every time? Not you that’s for sure! You’re making a program to calculate tips and save some time.\n",
    "\n",
    "Your program needs to take the bill amount as input and output the tip as a float.\n",
    "\n",
    "Sample Input\n",
    "50\n",
    "\n",
    "Sample Output\n",
    "10.0\n",
    "Explanation: 20% of 50 is 10.\n",
    "To calculate 20% of a given amount, you can multiply the number by 20 and divide it by 100: 50*20/100 = 10.0"
   ]
  },
  {
   "cell_type": "code",
   "execution_count": 1,
   "metadata": {},
   "outputs": [
    {
     "name": "stdout",
     "output_type": "stream",
     "text": [
      "10.0\n"
     ]
    }
   ],
   "source": [
    "bill = int(input())\n",
    "#your code goes here\n",
    "\n",
    "output = bill*20/100\n",
    "print(output)"
   ]
  }
 ],
 "metadata": {
  "kernelspec": {
   "display_name": "base",
   "language": "python",
   "name": "python3"
  },
  "language_info": {
   "codemirror_mode": {
    "name": "ipython",
    "version": 3
   },
   "file_extension": ".py",
   "mimetype": "text/x-python",
   "name": "python",
   "nbconvert_exporter": "python",
   "pygments_lexer": "ipython3",
   "version": "3.11.3"
  }
 },
 "nbformat": 4,
 "nbformat_minor": 2
}
