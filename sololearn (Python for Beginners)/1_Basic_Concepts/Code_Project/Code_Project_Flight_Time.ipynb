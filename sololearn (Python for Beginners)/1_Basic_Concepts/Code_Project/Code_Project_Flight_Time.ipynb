{
 "cells": [
  {
   "cell_type": "markdown",
   "metadata": {},
   "source": [
    "#### Flight Time\n",
    "\n",
    "\n",
    "You need to calculate the flight time of an upcoming trip. You are flying from LA to Sydney, covering a distance of 7425 miles, the plane flies at an average speed of 550 miles an hour.\n",
    "\n",
    "Calculate and output the total flight time in hours.\n",
    "\n",
    "Hint\n",
    "\n",
    "The result should be a float.\n",
    "Use the print statement to output the result."
   ]
  },
  {
   "cell_type": "code",
   "execution_count": 1,
   "metadata": {},
   "outputs": [
    {
     "name": "stdout",
     "output_type": "stream",
     "text": [
      "13.5\n"
     ]
    }
   ],
   "source": [
    "distance = 7425\n",
    "avgSpeed = 550\n",
    "\n",
    "totalFlightTime = distance / avgSpeed\n",
    "\n",
    "print (totalFlightTime)"
   ]
  }
 ],
 "metadata": {
  "kernelspec": {
   "display_name": "base",
   "language": "python",
   "name": "python3"
  },
  "language_info": {
   "codemirror_mode": {
    "name": "ipython",
    "version": 3
   },
   "file_extension": ".py",
   "mimetype": "text/x-python",
   "name": "python",
   "nbconvert_exporter": "python",
   "pygments_lexer": "ipython3",
   "version": "3.11.3"
  }
 },
 "nbformat": 4,
 "nbformat_minor": 2
}
