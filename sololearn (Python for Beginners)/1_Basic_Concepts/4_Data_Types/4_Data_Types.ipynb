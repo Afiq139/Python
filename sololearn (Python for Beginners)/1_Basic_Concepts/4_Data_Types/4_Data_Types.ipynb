{
 "cells": [
  {
   "cell_type": "markdown",
   "metadata": {},
   "source": [
    "Which of these will be stored as a float?\n",
    "\n",
    "- 7.4\n",
    "\n",
    "- \"hey\"\n",
    "\n",
    "- 42\n",
    "\n",
    "Solution:\n",
    "\n",
    "7.4"
   ]
  },
  {
   "cell_type": "markdown",
   "metadata": {},
   "source": [
    "What is the output of this code?\n",
    "\n",
    "print(1 + 2 + 3 + 4.0 + 5)\n",
    "\n",
    "\n",
    "Solution:\n",
    "\n",
    "15.0"
   ]
  }
 ],
 "metadata": {
  "kernelspec": {
   "display_name": "base",
   "language": "python",
   "name": "python3"
  },
  "language_info": {
   "name": "python",
   "version": "3.11.3"
  }
 },
 "nbformat": 4,
 "nbformat_minor": 2
}
