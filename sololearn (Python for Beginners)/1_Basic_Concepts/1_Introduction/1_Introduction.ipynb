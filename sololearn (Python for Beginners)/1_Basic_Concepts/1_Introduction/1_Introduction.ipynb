{
 "cells": [
  {
   "cell_type": "markdown",
   "metadata": {},
   "source": [
    "Which version of Python are going to learn in this course?\n",
    "\n",
    "- Python 3"
   ]
  }
 ],
 "metadata": {
  "language_info": {
   "name": "python"
  }
 },
 "nbformat": 4,
 "nbformat_minor": 2
}
